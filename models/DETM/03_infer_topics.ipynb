{
 "cells": [
  {
   "cell_type": "code",
   "execution_count": 45,
   "id": "bc5c0386-e92a-430f-9e45-17271c1975df",
   "metadata": {},
   "outputs": [],
   "source": [
    "from __future__ import print_function\n",
    "\n",
    "import argparse\n",
    "import torch\n",
    "import pickle \n",
    "import numpy as np \n",
    "import os \n",
    "import math \n",
    "import random \n",
    "import sys\n",
    "import matplotlib.pyplot as plt \n",
    "import seaborn as sns\n",
    "import scipy.io\n",
    "\n",
    "import data \n",
    "\n",
    "from sklearn.decomposition import PCA\n",
    "from torch import nn, optim\n",
    "from torch.nn import functional as F\n",
    "\n",
    "from detm import DETM\n",
    "from utils import nearest_neighbors, get_topic_coherence\n",
    "\n",
    "import pandas as pd"
   ]
  },
  {
   "cell_type": "code",
   "execution_count": 2,
   "id": "43ac43ef-f1c8-4732-ab27-c2ff290e729b",
   "metadata": {},
   "outputs": [],
   "source": [
    "%matplotlib inline\n",
    "from sklearn.manifold import TSNE\n"
   ]
  },
  {
   "cell_type": "code",
   "execution_count": 59,
   "id": "9304152e-7f1b-41a2-97a1-bdc4022ac99d",
   "metadata": {},
   "outputs": [],
   "source": [
    "root_dir = '/home/yiyi/nlp_tm/'"
   ]
  },
  {
   "cell_type": "code",
   "execution_count": 3,
   "id": "e1e23e7e-a383-4dc2-95f4-5330c2f75375",
   "metadata": {},
   "outputs": [],
   "source": [
    "device = torch.device(\"cuda:3\" if torch.cuda.is_available() else \"cpu\")"
   ]
  },
  {
   "cell_type": "code",
   "execution_count": 4,
   "id": "7f535f46-d842-47c8-b31a-e51c05a03ee7",
   "metadata": {},
   "outputs": [],
   "source": [
    "token_file = os.path.join('../../preprocessed_data', 'bow_tokens')\n",
    "count_file = os.path.join('../../preprocessed_data', 'bow_counts')\n",
    "time_file = os.path.join('../../preprocessed_data', 'bow_timestamps')"
   ]
  },
  {
   "cell_type": "code",
   "execution_count": 5,
   "id": "afade862-77c2-4d34-870d-24f745cd6c7d",
   "metadata": {},
   "outputs": [],
   "source": [
    "tokens = scipy.io.loadmat(token_file)['tokens'].squeeze()\n",
    "counts = scipy.io.loadmat(count_file)['counts'].squeeze()\n",
    "times = scipy.io.loadmat(time_file)['timestamps'].squeeze()"
   ]
  },
  {
   "cell_type": "code",
   "execution_count": 7,
   "id": "939388b8-6dbf-45ab-ad16-79c5bc248c52",
   "metadata": {},
   "outputs": [],
   "source": [
    "model_path = '/home/yiyi/nlp_tm/results/detm_twitter_K_50_Htheta_800_Optim_adam_Clip_0.0_ThetaAct_relu_Lr_0.005_Bsz_1000_RhoSize_300_L_3_minDF_10_trainEmbeddings_1_val_ppl_2638.9_epoch_20'"
   ]
  },
  {
   "cell_type": "code",
   "execution_count": 8,
   "id": "6def31f8-f63d-4da7-9d47-023ce2cacab6",
   "metadata": {},
   "outputs": [],
   "source": [
    "with open(model_path, 'rb') as f:\n",
    "    model = torch.load(f)"
   ]
  },
  {
   "cell_type": "code",
   "execution_count": 9,
   "id": "27efd80d-58e0-419e-ab6a-dc233570df20",
   "metadata": {},
   "outputs": [
    {
     "data": {
      "text/plain": [
       "DETM(\n",
       "  (t_drop): Dropout(p=0.0, inplace=False)\n",
       "  (theta_act): ReLU()\n",
       "  (rho): Linear(in_features=300, out_features=20865, bias=False)\n",
       "  (q_theta): Sequential(\n",
       "    (0): Linear(in_features=20915, out_features=800, bias=True)\n",
       "    (1): ReLU()\n",
       "    (2): Linear(in_features=800, out_features=800, bias=True)\n",
       "    (3): ReLU()\n",
       "  )\n",
       "  (mu_q_theta): Linear(in_features=800, out_features=50, bias=True)\n",
       "  (logsigma_q_theta): Linear(in_features=800, out_features=50, bias=True)\n",
       "  (q_eta_map): Linear(in_features=20865, out_features=200, bias=True)\n",
       "  (q_eta): LSTM(200, 200, num_layers=3)\n",
       "  (mu_q_eta): Linear(in_features=250, out_features=50, bias=True)\n",
       "  (logsigma_q_eta): Linear(in_features=250, out_features=50, bias=True)\n",
       ")"
      ]
     },
     "execution_count": 9,
     "metadata": {},
     "output_type": "execute_result"
    }
   ],
   "source": [
    "model.to(device)"
   ]
  },
  {
   "cell_type": "code",
   "execution_count": 10,
   "id": "47955d4c-1eb7-46d7-b292-bec3982b7b52",
   "metadata": {},
   "outputs": [],
   "source": [
    "with open(os.path.join('/home/yiyi/nlp_tm/preprocessed_data', 'vocab.pkl'), 'rb') as f:\n",
    "        vocab = pickle.load(f)"
   ]
  },
  {
   "cell_type": "code",
   "execution_count": 11,
   "id": "df19b218-6175-4df6-84a5-cd65ea3025cc",
   "metadata": {},
   "outputs": [],
   "source": [
    "vocab_size = len(vocab)"
   ]
  },
  {
   "cell_type": "code",
   "execution_count": 12,
   "id": "405197fe-0702-4006-949b-8fa8ad83a438",
   "metadata": {},
   "outputs": [
    {
     "data": {
      "text/plain": [
       "360097"
      ]
     },
     "execution_count": 12,
     "metadata": {},
     "output_type": "execute_result"
    }
   ],
   "source": [
    "len(tokens)"
   ]
  },
  {
   "cell_type": "code",
   "execution_count": 13,
   "id": "8096a875-3bb5-4570-8930-3c9c84e68778",
   "metadata": {},
   "outputs": [
    {
     "data": {
      "text/plain": [
       "array([0, 0, 0, ..., 7, 7, 7])"
      ]
     },
     "execution_count": 13,
     "metadata": {},
     "output_type": "execute_result"
    }
   ],
   "source": [
    "times"
   ]
  },
  {
   "cell_type": "code",
   "execution_count": 14,
   "id": "371bcc54-d2af-4119-af8c-aef852e3d313",
   "metadata": {
    "scrolled": true,
    "tags": []
   },
   "outputs": [
    {
     "name": "stderr",
     "output_type": "stream",
     "text": [
      "/home/yiyi/nlp_tm/models/DETM/data.py:117: UserWarning: This overload of nonzero is deprecated:\n",
      "\tnonzero()\n",
      "Consider using one of the following signatures instead:\n",
      "\tnonzero(*, bool as_tuple) (Triggered internally at  /opt/conda/conda-bld/pytorch_1607370117127/work/torch/csrc/utils/python_arg_parser.cpp:882.)\n",
      "  tmp = (times_batch == t).nonzero()\n"
     ]
    },
    {
     "name": "stdout",
     "output_type": "stream",
     "text": [
      "idx: 0/361\n",
      "idx: 20/361\n",
      "idx: 40/361\n",
      "idx: 60/361\n",
      "idx: 80/361\n",
      "idx: 100/361\n",
      "idx: 120/361\n",
      "idx: 140/361\n",
      "idx: 160/361\n",
      "idx: 180/361\n",
      "idx: 200/361\n",
      "idx: 220/361\n",
      "idx: 240/361\n",
      "idx: 260/361\n",
      "idx: 280/361\n",
      "idx: 300/361\n",
      "idx: 320/361\n",
      "idx: 340/361\n",
      "idx: 360/361\n"
     ]
    }
   ],
   "source": [
    "rnn_inp = data.get_rnn_input(\n",
    "    tokens, counts, times, 8, vocab_size, len(tokens))\n"
   ]
  },
  {
   "cell_type": "code",
   "execution_count": 15,
   "id": "cf1896c2-2d4c-4e22-b37a-eee499a2ac89",
   "metadata": {},
   "outputs": [],
   "source": [
    "\n",
    "def _eta_helper(rnn_inp):\n",
    "    inp = model.q_eta_map(rnn_inp).unsqueeze(1)\n",
    "    hidden = model.init_hidden()\n",
    "    output, _ = model.q_eta(inp, hidden)\n",
    "    output = output.squeeze()\n",
    "    etas = torch.zeros(model.num_times, model.num_topics).to(device)\n",
    "    inp_0 = torch.cat([output[0], torch.zeros(model.num_topics,).to(device)], dim=0)\n",
    "    etas[0] = model.mu_q_eta(inp_0)\n",
    "    for t in range(1, model.num_times):\n",
    "        inp_t = torch.cat([output[t], etas[t-1]], dim=0)\n",
    "        etas[t] = model.mu_q_eta(inp_t)\n",
    "    return etas"
   ]
  },
  {
   "cell_type": "code",
   "execution_count": 16,
   "id": "61d2c2bc-c6af-46de-bc3d-667e0de25a38",
   "metadata": {},
   "outputs": [],
   "source": [
    "etas= _eta_helper(rnn_inp)"
   ]
  },
  {
   "cell_type": "code",
   "execution_count": 17,
   "id": "0fca34e0-38b4-425f-92dc-fa103804f4d4",
   "metadata": {},
   "outputs": [],
   "source": [
    "def get_theta(eta, bows):\n",
    "    model.eval()\n",
    "    with torch.no_grad():\n",
    "        inp = torch.cat([bows, eta], dim=1)\n",
    "        q_theta = model.q_theta(inp)\n",
    "        mu_theta = model.mu_q_theta(q_theta)\n",
    "        theta = F.softmax(mu_theta, dim=-1)\n",
    "        return theta   "
   ]
  },
  {
   "cell_type": "code",
   "execution_count": 65,
   "id": "ae3c0590-9c14-4b98-9af2-d25dced3edfa",
   "metadata": {},
   "outputs": [],
   "source": [
    "# get the mats for plot word evolution\n",
    "output_dir = os.path.join(root_dir, 'results', 'K_50_TR_1')\n",
    "\n",
    "model.eval()\n",
    "with torch.no_grad():\n",
    "    alpha = model.mu_q_alpha.to(device)\n",
    "    scipy.io.savemat(os.path.join(output_dir, 'alpha.mat'), {'values':alpha.cpu().numpy()}, do_compression=True)\n",
    "    beta = model.get_beta(alpha).cpu().numpy()\n",
    "    scipy.io.savemat(os.path.join(output_dir, 'beta.mat'), {'values':beta}, do_compression=True)\n",
    "    rho = model.rho.weight.cpu().numpy()\n",
    "    scipy.io.savemat(os.path.join(output_dir, 'rho.mat'), {'values': rho}, do_compression=True)\n",
    "    "
   ]
  },
  {
   "cell_type": "code",
   "execution_count": 18,
   "id": "354c5730-9bc6-4160-95fd-3ba4edc632e9",
   "metadata": {},
   "outputs": [],
   "source": [
    "indices = torch.split(torch.tensor(range(len(tokens))), 1000)"
   ]
  },
  {
   "cell_type": "code",
   "execution_count": 20,
   "id": "9f6e0ebe-e298-441f-a5ea-3b6e583de350",
   "metadata": {},
   "outputs": [],
   "source": [
    "theta_weights = []"
   ]
  },
  {
   "cell_type": "code",
   "execution_count": 21,
   "id": "c414b12c-ab99-4d5f-a8fe-b8d06dd8acb0",
   "metadata": {
    "scrolled": true,
    "tags": []
   },
   "outputs": [
    {
     "name": "stdout",
     "output_type": "stream",
     "text": [
      "2\n",
      "3\n",
      "4\n",
      "5\n",
      "6\n",
      "7\n",
      "8\n",
      "9\n",
      "10\n",
      "11\n",
      "12\n",
      "13\n",
      "14\n",
      "15\n",
      "16\n",
      "17\n",
      "18\n",
      "19\n",
      "20\n",
      "21\n",
      "22\n",
      "23\n",
      "24\n",
      "25\n",
      "26\n",
      "27\n",
      "28\n",
      "29\n",
      "30\n",
      "31\n",
      "32\n",
      "33\n",
      "34\n",
      "35\n",
      "36\n",
      "37\n",
      "38\n",
      "39\n",
      "40\n",
      "41\n",
      "42\n",
      "43\n",
      "44\n",
      "45\n",
      "46\n",
      "47\n",
      "48\n",
      "49\n",
      "50\n",
      "51\n",
      "52\n",
      "53\n",
      "54\n",
      "55\n",
      "56\n",
      "57\n",
      "58\n",
      "59\n",
      "60\n",
      "61\n",
      "62\n",
      "63\n",
      "64\n",
      "65\n",
      "66\n",
      "67\n",
      "68\n",
      "69\n",
      "70\n",
      "71\n",
      "72\n",
      "73\n",
      "74\n",
      "75\n",
      "76\n",
      "77\n",
      "78\n",
      "79\n",
      "80\n",
      "81\n",
      "82\n",
      "83\n",
      "84\n",
      "85\n",
      "86\n",
      "87\n",
      "88\n",
      "89\n",
      "90\n",
      "91\n",
      "92\n",
      "93\n",
      "94\n",
      "95\n",
      "96\n",
      "97\n",
      "98\n",
      "99\n",
      "100\n",
      "101\n",
      "102\n",
      "103\n",
      "104\n",
      "105\n",
      "106\n",
      "107\n",
      "108\n",
      "109\n",
      "110\n",
      "111\n",
      "112\n",
      "113\n",
      "114\n",
      "115\n",
      "116\n",
      "117\n",
      "118\n",
      "119\n",
      "120\n",
      "121\n",
      "122\n",
      "123\n",
      "124\n",
      "125\n",
      "126\n",
      "127\n",
      "128\n",
      "129\n",
      "130\n",
      "131\n",
      "132\n",
      "133\n",
      "134\n",
      "135\n",
      "136\n",
      "137\n",
      "138\n",
      "139\n",
      "140\n",
      "141\n",
      "142\n",
      "143\n",
      "144\n",
      "145\n",
      "146\n",
      "147\n",
      "148\n",
      "149\n",
      "150\n",
      "151\n",
      "152\n",
      "153\n",
      "154\n",
      "155\n",
      "156\n",
      "157\n",
      "158\n",
      "159\n",
      "160\n",
      "161\n",
      "162\n",
      "163\n",
      "164\n",
      "165\n",
      "166\n",
      "167\n",
      "168\n",
      "169\n",
      "170\n",
      "171\n",
      "172\n",
      "173\n",
      "174\n",
      "175\n",
      "176\n",
      "177\n",
      "178\n",
      "179\n",
      "180\n",
      "181\n",
      "182\n",
      "183\n",
      "184\n",
      "185\n",
      "186\n",
      "187\n",
      "188\n",
      "189\n",
      "190\n",
      "191\n",
      "192\n",
      "193\n",
      "194\n",
      "195\n",
      "196\n",
      "197\n",
      "198\n",
      "199\n",
      "200\n",
      "201\n",
      "202\n",
      "203\n",
      "204\n",
      "205\n",
      "206\n",
      "207\n",
      "208\n",
      "209\n",
      "210\n",
      "211\n",
      "212\n",
      "213\n",
      "214\n",
      "215\n",
      "216\n",
      "217\n",
      "218\n",
      "219\n",
      "220\n",
      "221\n",
      "222\n",
      "223\n",
      "224\n",
      "225\n",
      "226\n",
      "227\n",
      "228\n",
      "229\n",
      "230\n",
      "231\n",
      "232\n",
      "233\n",
      "234\n",
      "235\n",
      "236\n",
      "237\n",
      "238\n",
      "239\n",
      "240\n",
      "241\n",
      "242\n",
      "243\n",
      "244\n",
      "245\n",
      "246\n",
      "247\n",
      "248\n",
      "249\n",
      "250\n",
      "251\n",
      "252\n",
      "253\n",
      "254\n",
      "255\n",
      "256\n",
      "257\n",
      "258\n",
      "259\n",
      "260\n",
      "261\n",
      "262\n",
      "263\n",
      "264\n",
      "265\n",
      "266\n",
      "267\n",
      "268\n",
      "269\n",
      "270\n",
      "271\n",
      "272\n",
      "273\n",
      "274\n",
      "275\n",
      "276\n",
      "277\n",
      "278\n",
      "279\n",
      "280\n",
      "281\n",
      "282\n",
      "283\n",
      "284\n",
      "285\n",
      "286\n",
      "287\n",
      "288\n",
      "289\n",
      "290\n",
      "291\n",
      "292\n",
      "293\n",
      "294\n",
      "295\n",
      "296\n",
      "297\n",
      "298\n",
      "299\n",
      "300\n",
      "301\n",
      "302\n",
      "303\n",
      "304\n",
      "305\n",
      "306\n",
      "307\n",
      "308\n",
      "309\n",
      "310\n",
      "311\n",
      "312\n",
      "313\n",
      "314\n",
      "315\n",
      "316\n",
      "317\n",
      "318\n",
      "319\n",
      "320\n",
      "321\n",
      "322\n",
      "323\n",
      "324\n",
      "325\n",
      "326\n",
      "327\n",
      "328\n",
      "329\n",
      "330\n",
      "331\n",
      "332\n",
      "333\n",
      "334\n",
      "335\n",
      "336\n",
      "337\n",
      "338\n",
      "339\n",
      "340\n",
      "341\n",
      "342\n",
      "343\n",
      "344\n",
      "345\n",
      "346\n",
      "347\n",
      "348\n",
      "349\n",
      "350\n",
      "351\n",
      "352\n",
      "353\n",
      "354\n",
      "355\n",
      "356\n",
      "357\n",
      "358\n",
      "359\n",
      "360\n",
      "361\n",
      "362\n"
     ]
    }
   ],
   "source": [
    "counter =1\n",
    "model.eval()\n",
    "with torch.no_grad():\n",
    "    alpha=model.mu_q_alpha\n",
    "\n",
    "    for idx, ind in enumerate(indices):\n",
    "        data_batch, times_batch = data.get_batch(\n",
    "                        tokens, counts, ind, len(vocab),300, temporal=True, times=times)\n",
    "        sums = data_batch.sum(1).unsqueeze(1)\n",
    "\n",
    "        normalized_data_batch = data_batch / sums\n",
    "\n",
    "        eta_td = etas[times_batch.type('torch.LongTensor')]\n",
    "        theta = get_theta(eta_td, normalized_data_batch).to(device)\n",
    "        theta = theta.cpu().numpy()\n",
    "        theta_weights.append(theta)\n",
    "        counter+=1\n",
    "        print(f'{counter}\\r')"
   ]
  },
  {
   "cell_type": "code",
   "execution_count": 29,
   "id": "c5058ab6-108a-477d-8f71-ab1cf086998c",
   "metadata": {
    "scrolled": true,
    "tags": []
   },
   "outputs": [],
   "source": [
    "theta_weights_list = []\n",
    "for w in theta_weights:\n",
    "    for i in w:\n",
    "        theta_weights_list.append(i)"
   ]
  },
  {
   "cell_type": "code",
   "execution_count": 30,
   "id": "84314488-ffeb-4100-bb8d-cd1ce04878d8",
   "metadata": {},
   "outputs": [],
   "source": [
    "theta_weights_arr = np.stack(theta_weights_list, axis=0)"
   ]
  },
  {
   "cell_type": "code",
   "execution_count": 31,
   "id": "8fbb3ae6-7924-4916-9714-a4e67ede5996",
   "metadata": {},
   "outputs": [
    {
     "data": {
      "text/plain": [
       "(360097, 50)"
      ]
     },
     "execution_count": 31,
     "metadata": {},
     "output_type": "execute_result"
    }
   ],
   "source": [
    "theta_weights_arr.shape"
   ]
  },
  {
   "cell_type": "code",
   "execution_count": 38,
   "id": "1ff9aa86-3db0-40d1-9341-ffdd46045886",
   "metadata": {},
   "outputs": [],
   "source": [
    "inds = np.argmax(theta_weights_arr, axis=1)"
   ]
  },
  {
   "cell_type": "code",
   "execution_count": 41,
   "id": "b2066d5a-0782-4f73-ab55-5de9388ce1d0",
   "metadata": {},
   "outputs": [
    {
     "data": {
      "text/plain": [
       "array([32, 22,  2, 24,  1, 14, 38, 12, 15, 30, 43, 41, 26,  4, 35,  5, 19,\n",
       "       40, 16, 45,  9, 31, 49,  8, 25, 27, 42,  0, 20,  3, 18, 23, 33,  7,\n",
       "       46, 17, 39, 36, 34, 47, 28, 10, 13, 37, 29, 44, 21, 48, 11,  6])"
      ]
     },
     "execution_count": 41,
     "metadata": {},
     "output_type": "execute_result"
    }
   ],
   "source": [
    "np.argsort(theta_weights_arr, axis=1)[0]"
   ]
  },
  {
   "cell_type": "code",
   "execution_count": 35,
   "id": "6defed2c-0c87-40b4-ba13-9cf28afbf2d8",
   "metadata": {},
   "outputs": [
    {
     "data": {
      "text/plain": [
       "array([0.01496155, 0.00759155, 0.00641898, 0.016062  , 0.00985176,\n",
       "       0.01020938, 0.10939208, 0.0178032 , 0.01361099, 0.01186638,\n",
       "       0.02389051, 0.0993919 , 0.00825001, 0.02538348, 0.0078512 ,\n",
       "       0.00841665, 0.01143228, 0.01844979, 0.01617335, 0.01032079,\n",
       "       0.01499987, 0.06256872, 0.00571574, 0.01628733, 0.00744095,\n",
       "       0.01400182, 0.00965179, 0.01411745, 0.02354261, 0.02713039,\n",
       "       0.00888361, 0.0121347 , 0.00537031, 0.01639384, 0.0215896 ,\n",
       "       0.00989649, 0.02096538, 0.02565662, 0.00786678, 0.01904708,\n",
       "       0.01110439, 0.00932817, 0.01460308, 0.00922867, 0.03579482,\n",
       "       0.01148926, 0.0179389 , 0.02327344, 0.063618  , 0.0130324 ],\n",
       "      dtype=float32)"
      ]
     },
     "execution_count": 35,
     "metadata": {},
     "output_type": "execute_result"
    }
   ],
   "source": [
    "theta_weights_arr[0]"
   ]
  },
  {
   "cell_type": "code",
   "execution_count": 42,
   "id": "f4ff4e24-d4b5-4aa8-b1a1-59d0707bbcb3",
   "metadata": {},
   "outputs": [
    {
     "data": {
      "text/plain": [
       "array([47, 47, 10, 47, 47, 10, 10, 10, 10])"
      ]
     },
     "execution_count": 42,
     "metadata": {},
     "output_type": "execute_result"
    }
   ],
   "source": [
    "inds[-9:]"
   ]
  },
  {
   "cell_type": "code",
   "execution_count": 43,
   "id": "5443aa59-587c-4643-946d-132130c15c12",
   "metadata": {},
   "outputs": [
    {
     "data": {
      "text/plain": [
       "360097"
      ]
     },
     "execution_count": 43,
     "metadata": {},
     "output_type": "execute_result"
    }
   ],
   "source": [
    "len(inds)"
   ]
  },
  {
   "cell_type": "code",
   "execution_count": 54,
   "id": "e99f6e23-e776-4cae-a855-70fb476cf5dc",
   "metadata": {
    "scrolled": true,
    "tags": []
   },
   "outputs": [],
   "source": [
    "df = pd.read_csv('/home/yiyi/nlp_tm/datasets/df_detm_ids.csv', index_col=0)"
   ]
  },
  {
   "cell_type": "code",
   "execution_count": 56,
   "id": "1078bf5f-870e-4d8b-a7fe-03428333aa60",
   "metadata": {},
   "outputs": [
    {
     "data": {
      "text/plain": [
       "360097"
      ]
     },
     "execution_count": 56,
     "metadata": {},
     "output_type": "execute_result"
    }
   ],
   "source": [
    "len(df)"
   ]
  },
  {
   "cell_type": "code",
   "execution_count": 57,
   "id": "12289fc9-3b24-4b0f-a47d-c980d763b66b",
   "metadata": {},
   "outputs": [],
   "source": [
    "df['topic']= inds"
   ]
  },
  {
   "cell_type": "code",
   "execution_count": 58,
   "id": "3c6d2c20-0f75-4181-b003-e74c987ba1e3",
   "metadata": {},
   "outputs": [
    {
     "data": {
      "text/html": [
       "<div>\n",
       "<style scoped>\n",
       "    .dataframe tbody tr th:only-of-type {\n",
       "        vertical-align: middle;\n",
       "    }\n",
       "\n",
       "    .dataframe tbody tr th {\n",
       "        vertical-align: top;\n",
       "    }\n",
       "\n",
       "    .dataframe thead th {\n",
       "        text-align: right;\n",
       "    }\n",
       "</style>\n",
       "<table border=\"1\" class=\"dataframe\">\n",
       "  <thead>\n",
       "    <tr style=\"text-align: right;\">\n",
       "      <th></th>\n",
       "      <th>text_id</th>\n",
       "      <th>year_id</th>\n",
       "      <th>country_code</th>\n",
       "      <th>id.1</th>\n",
       "      <th>text</th>\n",
       "      <th>created_at</th>\n",
       "      <th>geo</th>\n",
       "      <th>author_id</th>\n",
       "      <th>entities</th>\n",
       "      <th>year</th>\n",
       "      <th>month</th>\n",
       "      <th>day</th>\n",
       "      <th>preprocessed_text</th>\n",
       "      <th>topic</th>\n",
       "    </tr>\n",
       "    <tr>\n",
       "      <th>id</th>\n",
       "      <th></th>\n",
       "      <th></th>\n",
       "      <th></th>\n",
       "      <th></th>\n",
       "      <th></th>\n",
       "      <th></th>\n",
       "      <th></th>\n",
       "      <th></th>\n",
       "      <th></th>\n",
       "      <th></th>\n",
       "      <th></th>\n",
       "      <th></th>\n",
       "      <th></th>\n",
       "      <th></th>\n",
       "    </tr>\n",
       "  </thead>\n",
       "  <tbody>\n",
       "    <tr>\n",
       "      <th>285908615561363456</th>\n",
       "      <td>[13807, 12242, 16517, 4854, 16885, 13840, 7284...</td>\n",
       "      <td>0</td>\n",
       "      <td>GB</td>\n",
       "      <td>285908615561363456</td>\n",
       "      <td>Completely missed the New Year beginning, too ...</td>\n",
       "      <td>2013-01-01T00:41:40.000Z</td>\n",
       "      <td>{'coordinates': {'type': 'Point', 'coordinates...</td>\n",
       "      <td>174028844</td>\n",
       "      <td>{'hashtags': [{'start': 59, 'end': 80, 'tag': ...</td>\n",
       "      <td>2013</td>\n",
       "      <td>1</td>\n",
       "      <td>1</td>\n",
       "      <td>completely miss new year beginning engross car...</td>\n",
       "      <td>6</td>\n",
       "    </tr>\n",
       "    <tr>\n",
       "      <th>285909630868152320</th>\n",
       "      <td>[11403, 16517, 13618, 1431, 1404, 1881]</td>\n",
       "      <td>0</td>\n",
       "      <td>DE</td>\n",
       "      <td>285909630868152320</td>\n",
       "      <td>happy new year all of you who lives in #europe...</td>\n",
       "      <td>2013-01-01T00:45:42.000Z</td>\n",
       "      <td>{'coordinates': {'type': 'Point', 'coordinates...</td>\n",
       "      <td>615040794</td>\n",
       "      <td>{'hashtags': [{'start': 39, 'end': 46, 'tag': ...</td>\n",
       "      <td>2013</td>\n",
       "      <td>1</td>\n",
       "      <td>1</td>\n",
       "      <td>happy new year live europe party start right</td>\n",
       "      <td>6</td>\n",
       "    </tr>\n",
       "    <tr>\n",
       "      <th>285915248383361026</th>\n",
       "      <td>[638, 2601, 20286]</td>\n",
       "      <td>0</td>\n",
       "      <td>GB</td>\n",
       "      <td>285915248383361026</td>\n",
       "      <td>Damien Sandow is awesome #YoureWelcome</td>\n",
       "      <td>2013-01-01T01:08:01.000Z</td>\n",
       "      <td>{'coordinates': {'type': 'Point', 'coordinates...</td>\n",
       "      <td>73127632</td>\n",
       "      <td>{'annotations': [{'start': 0, 'end': 12, 'prob...</td>\n",
       "      <td>2013</td>\n",
       "      <td>1</td>\n",
       "      <td>1</td>\n",
       "      <td>damien sandow awesome yourewelcome</td>\n",
       "      <td>6</td>\n",
       "    </tr>\n",
       "    <tr>\n",
       "      <th>285921849446117376</th>\n",
       "      <td>[17018, 9987]</td>\n",
       "      <td>0</td>\n",
       "      <td>GB</td>\n",
       "      <td>285921849446117376</td>\n",
       "      <td>Ryan was looking at me like I needed to be in ...</td>\n",
       "      <td>2013-01-01T01:34:15.000Z</td>\n",
       "      <td>{'place_id': 'a3f4491c1a3bfe66', 'coordinates'...</td>\n",
       "      <td>398595226</td>\n",
       "      <td>{'annotations': [{'start': 0, 'end': 3, 'proba...</td>\n",
       "      <td>2013</td>\n",
       "      <td>1</td>\n",
       "      <td>1</td>\n",
       "      <td>ryan look like need asylum troublemaker come</td>\n",
       "      <td>6</td>\n",
       "    </tr>\n",
       "    <tr>\n",
       "      <th>285922536942866432</th>\n",
       "      <td>[2721, 16517, 12121]</td>\n",
       "      <td>0</td>\n",
       "      <td>GB</td>\n",
       "      <td>285922536942866432</td>\n",
       "      <td>#welcome #to #2013 #i #hope #this #year #is #b...</td>\n",
       "      <td>2013-01-01T01:36:59.000Z</td>\n",
       "      <td>{'coordinates': {'type': 'Point', 'coordinates...</td>\n",
       "      <td>191530036</td>\n",
       "      <td>{'hashtags': [{'start': 0, 'end': 8, 'tag': 'w...</td>\n",
       "      <td>2013</td>\n",
       "      <td>1</td>\n",
       "      <td>1</td>\n",
       "      <td>welcome hope year well litte world know</td>\n",
       "      <td>6</td>\n",
       "    </tr>\n",
       "  </tbody>\n",
       "</table>\n",
       "</div>"
      ],
      "text/plain": [
       "                                                              text_id  \\\n",
       "id                                                                      \n",
       "285908615561363456  [13807, 12242, 16517, 4854, 16885, 13840, 7284...   \n",
       "285909630868152320            [11403, 16517, 13618, 1431, 1404, 1881]   \n",
       "285915248383361026                                 [638, 2601, 20286]   \n",
       "285921849446117376                                      [17018, 9987]   \n",
       "285922536942866432                               [2721, 16517, 12121]   \n",
       "\n",
       "                    year_id country_code                id.1  \\\n",
       "id                                                             \n",
       "285908615561363456        0           GB  285908615561363456   \n",
       "285909630868152320        0           DE  285909630868152320   \n",
       "285915248383361026        0           GB  285915248383361026   \n",
       "285921849446117376        0           GB  285921849446117376   \n",
       "285922536942866432        0           GB  285922536942866432   \n",
       "\n",
       "                                                                 text  \\\n",
       "id                                                                      \n",
       "285908615561363456  Completely missed the New Year beginning, too ...   \n",
       "285909630868152320  happy new year all of you who lives in #europe...   \n",
       "285915248383361026             Damien Sandow is awesome #YoureWelcome   \n",
       "285921849446117376  Ryan was looking at me like I needed to be in ...   \n",
       "285922536942866432  #welcome #to #2013 #i #hope #this #year #is #b...   \n",
       "\n",
       "                                  created_at  \\\n",
       "id                                             \n",
       "285908615561363456  2013-01-01T00:41:40.000Z   \n",
       "285909630868152320  2013-01-01T00:45:42.000Z   \n",
       "285915248383361026  2013-01-01T01:08:01.000Z   \n",
       "285921849446117376  2013-01-01T01:34:15.000Z   \n",
       "285922536942866432  2013-01-01T01:36:59.000Z   \n",
       "\n",
       "                                                                  geo  \\\n",
       "id                                                                      \n",
       "285908615561363456  {'coordinates': {'type': 'Point', 'coordinates...   \n",
       "285909630868152320  {'coordinates': {'type': 'Point', 'coordinates...   \n",
       "285915248383361026  {'coordinates': {'type': 'Point', 'coordinates...   \n",
       "285921849446117376  {'place_id': 'a3f4491c1a3bfe66', 'coordinates'...   \n",
       "285922536942866432  {'coordinates': {'type': 'Point', 'coordinates...   \n",
       "\n",
       "                    author_id  \\\n",
       "id                              \n",
       "285908615561363456  174028844   \n",
       "285909630868152320  615040794   \n",
       "285915248383361026   73127632   \n",
       "285921849446117376  398595226   \n",
       "285922536942866432  191530036   \n",
       "\n",
       "                                                             entities  year  \\\n",
       "id                                                                            \n",
       "285908615561363456  {'hashtags': [{'start': 59, 'end': 80, 'tag': ...  2013   \n",
       "285909630868152320  {'hashtags': [{'start': 39, 'end': 46, 'tag': ...  2013   \n",
       "285915248383361026  {'annotations': [{'start': 0, 'end': 12, 'prob...  2013   \n",
       "285921849446117376  {'annotations': [{'start': 0, 'end': 3, 'proba...  2013   \n",
       "285922536942866432  {'hashtags': [{'start': 0, 'end': 8, 'tag': 'w...  2013   \n",
       "\n",
       "                    month  day  \\\n",
       "id                               \n",
       "285908615561363456      1    1   \n",
       "285909630868152320      1    1   \n",
       "285915248383361026      1    1   \n",
       "285921849446117376      1    1   \n",
       "285922536942866432      1    1   \n",
       "\n",
       "                                                    preprocessed_text  topic  \n",
       "id                                                                            \n",
       "285908615561363456  completely miss new year beginning engross car...      6  \n",
       "285909630868152320       happy new year live europe party start right      6  \n",
       "285915248383361026                 damien sandow awesome yourewelcome      6  \n",
       "285921849446117376       ryan look like need asylum troublemaker come      6  \n",
       "285922536942866432            welcome hope year well litte world know      6  "
      ]
     },
     "execution_count": 58,
     "metadata": {},
     "output_type": "execute_result"
    }
   ],
   "source": [
    "df.head()"
   ]
  },
  {
   "cell_type": "code",
   "execution_count": 60,
   "id": "26a6b5be-e50a-4075-8f11-8a4f3f6a9c8c",
   "metadata": {},
   "outputs": [],
   "source": [
    "df.to_csv(os.path.join(root_dir, 'datasets/df_detm_topics.csv'))"
   ]
  },
  {
   "cell_type": "code",
   "execution_count": 50,
   "id": "a9564158-6545-4224-b93c-b3229a28d382",
   "metadata": {},
   "outputs": [],
   "source": [
    "from collections import Counter"
   ]
  },
  {
   "cell_type": "code",
   "execution_count": 52,
   "id": "c24084a5-fa32-47e6-bb16-0806bf494451",
   "metadata": {},
   "outputs": [
    {
     "data": {
      "text/plain": [
       "[(1, 3),\n",
       " (2, 31),\n",
       " (3, 10),\n",
       " (4, 23444),\n",
       " (5, 10),\n",
       " (6, 28837),\n",
       " (7, 17366),\n",
       " (8, 189),\n",
       " (9, 89811),\n",
       " (10, 53082),\n",
       " (11, 2),\n",
       " (15, 144),\n",
       " (18, 2),\n",
       " (19, 113),\n",
       " (20, 53644),\n",
       " (22, 16272),\n",
       " (23, 3),\n",
       " (24, 1),\n",
       " (29, 1),\n",
       " (30, 49),\n",
       " (31, 1558),\n",
       " (33, 8),\n",
       " (34, 457),\n",
       " (36, 27),\n",
       " (37, 43),\n",
       " (38, 46),\n",
       " (41, 888),\n",
       " (43, 5),\n",
       " (46, 39324),\n",
       " (47, 34722),\n",
       " (48, 1),\n",
       " (49, 4)]"
      ]
     },
     "execution_count": 52,
     "metadata": {},
     "output_type": "execute_result"
    }
   ],
   "source": [
    "sorted(Counter(inds).items())"
   ]
  },
  {
   "cell_type": "code",
   "execution_count": null,
   "id": "b3b0d38f-ae01-4e6d-aa1a-2d8c36047671",
   "metadata": {},
   "outputs": [],
   "source": []
  },
  {
   "cell_type": "markdown",
   "id": "8ec21beb-c4c5-4dce-8a02-76fcc27b8f1e",
   "metadata": {},
   "source": [
    "# plot word_evolution"
   ]
  },
  {
   "cell_type": "code",
   "execution_count": 68,
   "id": "0c6eac6f-641c-4214-bccf-ecf0cf7273ab",
   "metadata": {},
   "outputs": [],
   "source": [
    "with open(os.path.join(root_dir, 'preprocessed_data/timestamps.pkl'), 'rb')as f:\n",
    "    timelist = pickle.load(f)"
   ]
  },
  {
   "cell_type": "code",
   "execution_count": 69,
   "id": "21ac8297-e066-4eb9-9b94-37ba514ba1b9",
   "metadata": {},
   "outputs": [
    {
     "name": "stdout",
     "output_type": "stream",
     "text": [
      "timelist:  [2013, 2014, 2015, 2016, 2017, 2018, 2019, 2020]\n",
      "ticks:  ['2013', '2014', '2015', '2016', '2017', '2018', '2019', '2020']\n"
     ]
    }
   ],
   "source": [
    "print('timelist: ', timelist)\n",
    "T = len(timelist)\n",
    "ticks = [str(x) for x in timelist]\n",
    "print('ticks: ', ticks)"
   ]
  },
  {
   "cell_type": "code",
   "execution_count": 70,
   "id": "5a22556b-989c-4816-9615-98d604eda791",
   "metadata": {
    "tags": []
   },
   "outputs": [],
   "source": [
    "data_file = os.path.join(root_dir, 'preprocessed_data')\n",
    "vocab, train, valid, test = data.get_data(data_file, temporal=True)\n",
    "vocab_size = len(vocab)"
   ]
  },
  {
   "cell_type": "code",
   "execution_count": 77,
   "id": "3c69278c-f2d2-4fd2-957e-929de7c939c6",
   "metadata": {},
   "outputs": [
    {
     "data": {
      "text/plain": [
       "(50, 8, 20865)"
      ]
     },
     "execution_count": 77,
     "metadata": {},
     "output_type": "execute_result"
    }
   ],
   "source": [
    "beta.shape"
   ]
  },
  {
   "cell_type": "code",
   "execution_count": 76,
   "id": "0af9860e-d830-4299-8ab5-344e746dfac8",
   "metadata": {},
   "outputs": [
    {
     "name": "stdout",
     "output_type": "stream",
     "text": [
      "Topic Immigration...\n",
      "Time: 2013 ===> ['rtw', 'cwmassacre', 'batman', 'bulgarian', 'americanhorrorstoryasylum', 'italy', 'encounters', 'inspector', 'kurdistan']\n",
      "Time: 2014 ===> ['childrenofsyria', 'bbcqt', 'fitness', 'embracefamily', 'london', 'coven', 'depress', 'unrest', 'bind']\n",
      "Time: 2015 ===> ['migrant', 'mediterranean', 'border', 'asylum', 'uk', 'question', 'people', 'eu', 'today']\n",
      "Time: 2016 ===> ['trevifountain', 'barbudoybigotudo', 'greater', 'marchforeurope', 'hyde', 'kiel', 'monument', 'cinnamon', 'cardiff']\n",
      "Time: 2017 ===> ['warsaw', 'louvre', 'neuschwanstein', 'lifestyle', 'entrance', 'instadaily', 'fee', 'bike', 'hungry']\n",
      "Time: 2018 ===> ['refugee', 'dracobanks', 'sevilla', 'caravan', 'cobblestone', 'brixton', 'wheninberlin', 'aroundtheworld', 'followbon']\n",
      "Time: 2019 ===> ['paris', 'themusketeers', 'syria', 'organization', 'email', 'anger', 'solve', 'iameuropean', 'nationalism']\n",
      "Time: 2020 ===> ['world', 'update', 'long', 'asylum', 'people', 'food', 'party', 'group', 'moment']\n"
     ]
    }
   ],
   "source": [
    "print('Topic Immigration...')\n",
    "num_words = 10\n",
    "for t in range(8):\n",
    "    gamma = beta[45, t, :]\n",
    "    top_words = list(gamma.argsort()[-num_words+1:][::-1])\n",
    "    topic_words = [vocab[a] for a in top_words]\n",
    "    print('Time: {} ===> {}'.format(timelist[t], topic_words)) "
   ]
  },
  {
   "cell_type": "code",
   "execution_count": null,
   "id": "cdea9c94-d7f3-49e6-b394-df19f706669b",
   "metadata": {},
   "outputs": [],
   "source": []
  },
  {
   "cell_type": "code",
   "execution_count": null,
   "id": "55212daf-5a2c-4d53-990d-2c1519871092",
   "metadata": {},
   "outputs": [],
   "source": []
  },
  {
   "cell_type": "code",
   "execution_count": null,
   "id": "bb196376-a5c8-4650-a5cd-ac7075f5e6f5",
   "metadata": {},
   "outputs": [],
   "source": []
  },
  {
   "cell_type": "code",
   "execution_count": null,
   "id": "0db87cc1-fd28-4048-a2ea-afa578654222",
   "metadata": {},
   "outputs": [],
   "source": []
  },
  {
   "cell_type": "code",
   "execution_count": null,
   "id": "dbde6163-01db-4974-9f70-05e159745bc9",
   "metadata": {},
   "outputs": [],
   "source": []
  },
  {
   "cell_type": "code",
   "execution_count": null,
   "id": "de575eb1-245d-448d-89cb-febdebb6a40b",
   "metadata": {},
   "outputs": [],
   "source": []
  },
  {
   "cell_type": "code",
   "execution_count": null,
   "id": "a7c50c77-2c8b-4c22-9e3e-e369abec7750",
   "metadata": {},
   "outputs": [],
   "source": []
  },
  {
   "cell_type": "code",
   "execution_count": null,
   "id": "51932a96-fe12-4e6a-8331-ffb99f84a0f1",
   "metadata": {},
   "outputs": [],
   "source": []
  },
  {
   "cell_type": "code",
   "execution_count": 26,
   "id": "1c05a2e2-cacb-4683-8297-3f9c80c38023",
   "metadata": {
    "tags": []
   },
   "outputs": [],
   "source": [
    "def nearest_neighbors(word, embeddings, vocab, num_words):\n",
    "    vectors = embeddings.cpu().numpy() \n",
    "    index = vocab.index(word)\n",
    "    query = embeddings[index].cpu().numpy() \n",
    "    ranks = vectors.dot(query).squeeze()\n",
    "    denom = query.T.dot(query).squeeze()\n",
    "    denom = denom * np.sum(vectors**2, 1)\n",
    "    denom = np.sqrt(denom)\n",
    "    ranks = ranks / denom\n",
    "    mostSimilar = []\n",
    "    [mostSimilar.append(idx) for idx in ranks.argsort()[::-1]]\n",
    "    nearest_neighbors = mostSimilar[:num_words]\n",
    "    nearest_neighbors = [vocab[comp] for comp in nearest_neighbors]\n",
    "    return nearest_neighbors"
   ]
  },
  {
   "cell_type": "code",
   "execution_count": 34,
   "id": "99ccef67-2994-441e-b3f5-96eaf94d879d",
   "metadata": {
    "scrolled": true,
    "tags": []
   },
   "outputs": [
    {
     "name": "stdout",
     "output_type": "stream",
     "text": [
      "immigrant :  ['immigrant', 'fashionshow', 'beachclub', 'criminals', 'lagodigarda', 'finedine', 'giverny', 'teamapex', 'nineveh', 'hoy']\n",
      "refugee :  ['refugee', 'gna', 'cinnamon', 'tweeting', 'gorran', 'donnie', 'damien', 'munition', 'cray', 'blueandwhite']\n",
      "exile :  ['exile', 'asylum', 'uk', 'people', 'migrant', 'good', 'great', 'love', 'human', 'work']\n",
      "migrant :  ['migrant', 'uk', 'asylum', 'eu', 'people', 'time', 'seeker', 'good', 'work', 'british']\n",
      "asylum :  ['asylum', 'uk', 'good', 'seeker', 'migrant', 'work', 'time', 'day', 'people', 'great']\n",
      "uk :  ['uk', 'asylum', 'people', 'work', 'migrant', 'good', 'today', 'seeker', 'year', 'country']\n",
      "eu :  ['eu', 'migrant', 'uk', 'people', 'seeker', 'asylum', 'time', 'work', 'country', 'good']\n",
      "europe :  ['europe', 'ambience', 'bringing', 'mentoring', 'spreadlove', 'szczecin', 'hours', 'fragmentation', 'quay', 'eccentric']\n"
     ]
    }
   ],
   "source": [
    "model.eval()\n",
    "with torch.no_grad():\n",
    "    embeddings = model.rho.weight\n",
    "    vectors = embeddings.cpu().numpy()\n",
    "    for word in ['immigrant', 'refugee', 'exile', 'migrant', 'asylum', 'uk', 'eu', 'europe']:\n",
    "        neighbors = nearest_neighbors(word, embeddings, vocab, 10)\n",
    "        print(word, ': ', neighbors)"
   ]
  },
  {
   "cell_type": "code",
   "execution_count": 36,
   "id": "f1ff8793-87ed-431f-ab06-dac7d1ad4e87",
   "metadata": {},
   "outputs": [],
   "source": [
    "keywords=  [ 'immigrant', 'immigrants',  'refugee', 'refugees','asylum',\n",
    "      'migrant', 'migrants', 'internally displaced', 'UNHCR', 'asylee',\n",
    "      'asylees', 'Asylee',  'resettled', 'resettlements',\n",
    "      'immigration', 'Ateh', 're settlement', 'resettle', 'resettles',\n",
    "      'Dadaab', 'statelessness', 'Hagadera' , 'Domiz',\n",
    "      'émigré', 'exile', 'displaced person', 'deserter', 'pariah', 'pariahs' ]"
   ]
  },
  {
   "cell_type": "code",
   "execution_count": 39,
   "id": "873f3d41-2736-4a1b-bb5f-a8be02966a6f",
   "metadata": {},
   "outputs": [],
   "source": [
    "keywords = list(set([k.lower() for k in keywords]))"
   ]
  },
  {
   "cell_type": "code",
   "execution_count": 40,
   "id": "a864c566-fc49-4c1c-ba7c-ae9b9fff7801",
   "metadata": {},
   "outputs": [
    {
     "data": {
      "text/plain": [
       "28"
      ]
     },
     "execution_count": 40,
     "metadata": {},
     "output_type": "execute_result"
    }
   ],
   "source": [
    "len(keywords)"
   ]
  },
  {
   "cell_type": "code",
   "execution_count": 43,
   "id": "2b923928-56eb-4962-a6e5-50c03b41a6dd",
   "metadata": {},
   "outputs": [],
   "source": [
    "keywords_selected = []\n",
    "for k in keywords: \n",
    "    if k in vocab:\n",
    "        keywords_selected.append(k)"
   ]
  },
  {
   "cell_type": "code",
   "execution_count": 89,
   "id": "b46d86e9-a289-4251-a83a-292b03732136",
   "metadata": {
    "tags": []
   },
   "outputs": [],
   "source": [
    "keywords_ =['immigrant', 'refugee', 'immigration', 'asylum', 'exile', 'migrant']"
   ]
  },
  {
   "cell_type": "code",
   "execution_count": 90,
   "id": "97c903bc-4c9f-4cb2-bcf5-ce609f0bda4c",
   "metadata": {},
   "outputs": [],
   "source": [
    "# vectors of whole embeddings.\n",
    "indexes_keywords = [vocab.index(word) for word in keywords_]\n",
    "queries = [vectors[index] for index in indexes_keywords] # vectors of the keywords"
   ]
  },
  {
   "cell_type": "code",
   "execution_count": 77,
   "id": "4b207f94-ee2c-4461-8dec-1ca0dd654822",
   "metadata": {},
   "outputs": [],
   "source": [
    "from sklearn import cluster\n",
    "from sklearn import metrics"
   ]
  },
  {
   "cell_type": "code",
   "execution_count": 91,
   "id": "8b906a22-8b9c-44b1-bcc1-e9257cc78ad8",
   "metadata": {},
   "outputs": [],
   "source": [
    "kmeans = cluster.KMeans(n_clusters=1, random_state=0).fit(queries)"
   ]
  },
  {
   "cell_type": "code",
   "execution_count": 92,
   "id": "229e34bf-cf8c-4032-8c7c-db770e4b3d89",
   "metadata": {},
   "outputs": [
    {
     "data": {
      "text/plain": [
       "array([0, 0, 0, 0, 0, 0], dtype=int32)"
      ]
     },
     "execution_count": 92,
     "metadata": {},
     "output_type": "execute_result"
    }
   ],
   "source": [
    "kmeans.labels_"
   ]
  },
  {
   "cell_type": "code",
   "execution_count": 93,
   "id": "4b211e3a-f890-47c2-a29d-a997a64aff16",
   "metadata": {
    "scrolled": true,
    "tags": []
   },
   "outputs": [],
   "source": [
    "centroid = kmeans.cluster_centers_"
   ]
  },
  {
   "cell_type": "code",
   "execution_count": 81,
   "id": "b5804de0-8a70-40ab-b253-8859733074e8",
   "metadata": {},
   "outputs": [
    {
     "data": {
      "text/plain": [
       "(1, 300)"
      ]
     },
     "execution_count": 81,
     "metadata": {},
     "output_type": "execute_result"
    }
   ],
   "source": [
    "centroid.shape"
   ]
  },
  {
   "cell_type": "code",
   "execution_count": 82,
   "id": "5e061673-889a-4ecc-9338-e983e15f53d7",
   "metadata": {},
   "outputs": [
    {
     "data": {
      "text/plain": [
       "(20865, 300)"
      ]
     },
     "execution_count": 82,
     "metadata": {},
     "output_type": "execute_result"
    }
   ],
   "source": [
    "vectors.shape"
   ]
  },
  {
   "cell_type": "code",
   "execution_count": 94,
   "id": "ada16cbf-0ffe-453c-aa4b-5c1012eea5fd",
   "metadata": {},
   "outputs": [],
   "source": [
    "centroid = centroid[0]"
   ]
  },
  {
   "cell_type": "code",
   "execution_count": 95,
   "id": "6f89c266-b352-4b7c-b91a-95864e20ce90",
   "metadata": {},
   "outputs": [
    {
     "data": {
      "text/plain": [
       "(300,)"
      ]
     },
     "execution_count": 95,
     "metadata": {},
     "output_type": "execute_result"
    }
   ],
   "source": [
    "centroid.shape"
   ]
  },
  {
   "cell_type": "code",
   "execution_count": 96,
   "id": "cfe852a3-b74b-4370-8664-f3a0fd7a75d6",
   "metadata": {},
   "outputs": [],
   "source": [
    "ranks= vectors.dot(centroid).squeeze()\n",
    "denom = centroid.T.dot(centroid).squeeze()\n",
    "denom = denom*np.sum(vectors*2, 1)\n",
    "ranks = ranks/denom"
   ]
  },
  {
   "cell_type": "code",
   "execution_count": 97,
   "id": "7766081e-36c9-41e0-b13f-d6bee823dd5b",
   "metadata": {},
   "outputs": [
    {
     "data": {
      "text/plain": [
       "(20865,)"
      ]
     },
     "execution_count": 97,
     "metadata": {},
     "output_type": "execute_result"
    }
   ],
   "source": [
    "ranks.shape"
   ]
  },
  {
   "cell_type": "code",
   "execution_count": 98,
   "id": "958046e6-e627-4c9a-b1af-d026f86c120c",
   "metadata": {},
   "outputs": [],
   "source": [
    "mostSimilar = []\n",
    "[mostSimilar.append(idx) for idx in ranks.argsort()[::-1]]\n",
    "nearest_neighbors = mostSimilar[:50]\n",
    "nearest_neighbors = [vocab[comp] for comp in nearest_neighbors]"
   ]
  },
  {
   "cell_type": "code",
   "execution_count": 99,
   "id": "6e730c2f-ab89-41f7-94df-108a2baf90f4",
   "metadata": {
    "scrolled": true,
    "tags": []
   },
   "outputs": [
    {
     "data": {
      "text/plain": [
       "['roberts',\n",
       " 'torycorruption',\n",
       " 'starry',\n",
       " 'nbd',\n",
       " 'advanced',\n",
       " 'vacant',\n",
       " 'ecuadorian',\n",
       " 'mummy',\n",
       " 'girona',\n",
       " 'board',\n",
       " 'engerland',\n",
       " 'scott',\n",
       " 'corporate',\n",
       " 'varenna',\n",
       " 'rights',\n",
       " 'congresswoman',\n",
       " 'kafala',\n",
       " 'christmaslight',\n",
       " 'teatro',\n",
       " 'agriculture',\n",
       " 'irelands',\n",
       " 'fleet',\n",
       " 'hurts',\n",
       " 'percussion',\n",
       " 'calle',\n",
       " 'outlook',\n",
       " 'inane',\n",
       " 'trumpban',\n",
       " 'verification',\n",
       " 'lanzarote',\n",
       " 'starowkatorun',\n",
       " 'woohoo',\n",
       " 'triangle',\n",
       " 'silva',\n",
       " 'guard',\n",
       " 'noun',\n",
       " 'cartooninghumanright',\n",
       " 'exporter',\n",
       " 'adjective',\n",
       " 'senegal',\n",
       " 'barnet',\n",
       " 'bot',\n",
       " 'wartime',\n",
       " 'nowadays',\n",
       " 'humza',\n",
       " 'rooney',\n",
       " 'site',\n",
       " 'partytime',\n",
       " 'messy',\n",
       " 'fridaynight']"
      ]
     },
     "execution_count": 99,
     "metadata": {},
     "output_type": "execute_result"
    }
   ],
   "source": [
    "nearest_neighbors"
   ]
  },
  {
   "cell_type": "code",
   "execution_count": 102,
   "id": "ddb1a3a5-f4c5-4717-9958-d72ffa3d8be4",
   "metadata": {},
   "outputs": [],
   "source": [
    "query_arr = np.array(queries)"
   ]
  },
  {
   "cell_type": "code",
   "execution_count": 103,
   "id": "445ca644-2d75-44b2-98b6-5e5397a9ebd9",
   "metadata": {},
   "outputs": [
    {
     "data": {
      "text/plain": [
       "(6, 300)"
      ]
     },
     "execution_count": 103,
     "metadata": {},
     "output_type": "execute_result"
    }
   ],
   "source": [
    "query_arr.shape"
   ]
  },
  {
   "cell_type": "code",
   "execution_count": 100,
   "id": "38292124-96e4-4e17-8e8a-2f79c94d91b6",
   "metadata": {},
   "outputs": [],
   "source": [
    "from sklearn.manifold import TSNE"
   ]
  },
  {
   "cell_type": "code",
   "execution_count": 104,
   "id": "ee5ffeac-f941-41c7-8054-ad42aeecb6a7",
   "metadata": {},
   "outputs": [],
   "source": [
    "tsne = TSNE(n_components=2, random_state=0, n_iter=10000, perplexity=7)"
   ]
  },
  {
   "cell_type": "code",
   "execution_count": 105,
   "id": "0cad90f9-e55e-4ceb-b36b-8d20a82260aa",
   "metadata": {},
   "outputs": [],
   "source": [
    "T = tsne.fit_transform(query_arr)"
   ]
  },
  {
   "cell_type": "code",
   "execution_count": 106,
   "id": "267b7b1d-bf3a-40b2-8bf3-110598b295b7",
   "metadata": {},
   "outputs": [
    {
     "data": {
      "image/png": "[encoded data removed]",
      "text/plain": [
       "<Figure size 1152x720 with 1 Axes>"
      ]
     },
     "metadata": {
      "needs_background": "light"
     },
     "output_type": "display_data"
    }
   ],
   "source": [
    "plt.figure(figsize=(16,10))\n",
    "plt.scatter(T[:, 0], T[:, 1])\n",
    "for label, x, y in zip(keywords_, T[:, 0], T[:, 1]):\n",
    "    plt.annotate(label, xy=(x+2, y+2), xytext=(0, 0), textcoords='offset points')"
   ]
  },
  {
   "cell_type": "code",
   "execution_count": null,
   "id": "48b69986-8eb4-4fc8-b740-997eaaacd9f0",
   "metadata": {},
   "outputs": [],
   "source": []
  },
  {
   "cell_type": "code",
   "execution_count": null,
   "id": "9ac3fccb-e6dd-4dd9-bb67-bb2ec097b9ce",
   "metadata": {},
   "outputs": [],
   "source": []
  },
  {
   "cell_type": "code",
   "execution_count": null,
   "id": "9e4dd21a-daee-48f6-a23c-d02098346a1c",
   "metadata": {},
   "outputs": [],
   "source": []
  }
 ],
 "metadata": {
  "kernelspec": {
   "display_name": "hatex",
   "language": "python",
   "name": "hatex"
  },
  "language_info": {
   "codemirror_mode": {
    "name": "ipython",
    "version": 3
   },
   "file_extension": ".py",
   "mimetype": "text/x-python",
   "name": "python",
   "nbconvert_exporter": "python",
   "pygments_lexer": "ipython3",
   "version": "3.8.8"
  }
 },
 "nbformat": 4,
 "nbformat_minor": 5
}
