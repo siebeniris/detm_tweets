{
 "cells": [
  {
   "cell_type": "code",
   "execution_count": 1,
   "id": "6630ef62-84cf-42aa-9ebf-da7827f96f2c",
   "metadata": {},
   "outputs": [],
   "source": [
    "import os \n",
    "import pickle\n",
    "import pandas as pd\n",
    "import numpy as np\n"
   ]
  },
  {
   "cell_type": "code",
   "execution_count": 2,
   "id": "d972a0ce-35e9-4fe6-81b0-17eb5643b8b2",
   "metadata": {},
   "outputs": [],
   "source": [
    "df_orig = pd.read_csv('../../datasets/tweets_df_tm_processed.csv', index_col=0)"
   ]
  },
  {
   "cell_type": "code",
   "execution_count": 3,
   "id": "f1d1cc07-4b42-45d5-94d9-b54cff2d9505",
   "metadata": {},
   "outputs": [
    {
     "data": {
      "text/html": [
       "<div>\n",
       "<style scoped>\n",
       "    .dataframe tbody tr th:only-of-type {\n",
       "        vertical-align: middle;\n",
       "    }\n",
       "\n",
       "    .dataframe tbody tr th {\n",
       "        vertical-align: top;\n",
       "    }\n",
       "\n",
       "    .dataframe thead th {\n",
       "        text-align: right;\n",
       "    }\n",
       "</style>\n",
       "<table border=\"1\" class=\"dataframe\">\n",
       "  <thead>\n",
       "    <tr style=\"text-align: right;\">\n",
       "      <th></th>\n",
       "      <th>text</th>\n",
       "      <th>created_at</th>\n",
       "      <th>geo</th>\n",
       "      <th>country_code</th>\n",
       "      <th>author_id</th>\n",
       "      <th>entities</th>\n",
       "      <th>year</th>\n",
       "      <th>month</th>\n",
       "      <th>day</th>\n",
       "      <th>preprocessed_text</th>\n",
       "    </tr>\n",
       "    <tr>\n",
       "      <th>Unnamed: 0.1</th>\n",
       "      <th></th>\n",
       "      <th></th>\n",
       "      <th></th>\n",
       "      <th></th>\n",
       "      <th></th>\n",
       "      <th></th>\n",
       "      <th></th>\n",
       "      <th></th>\n",
       "      <th></th>\n",
       "      <th></th>\n",
       "    </tr>\n",
       "  </thead>\n",
       "  <tbody>\n",
       "    <tr>\n",
       "      <th>285908615561363456</th>\n",
       "      <td>Completely missed the New Year beginning, too ...</td>\n",
       "      <td>2013-01-01T00:41:40.000Z</td>\n",
       "      <td>{'coordinates': {'type': 'Point', 'coordinates...</td>\n",
       "      <td>GB</td>\n",
       "      <td>174028844</td>\n",
       "      <td>{'hashtags': [{'start': 59, 'end': 80, 'tag': ...</td>\n",
       "      <td>2013</td>\n",
       "      <td>1</td>\n",
       "      <td>1</td>\n",
       "      <td>completely miss new year beginning engross car...</td>\n",
       "    </tr>\n",
       "    <tr>\n",
       "      <th>285909630868152320</th>\n",
       "      <td>happy new year all of you who lives in #europe...</td>\n",
       "      <td>2013-01-01T00:45:42.000Z</td>\n",
       "      <td>{'coordinates': {'type': 'Point', 'coordinates...</td>\n",
       "      <td>DE</td>\n",
       "      <td>615040794</td>\n",
       "      <td>{'hashtags': [{'start': 39, 'end': 46, 'tag': ...</td>\n",
       "      <td>2013</td>\n",
       "      <td>1</td>\n",
       "      <td>1</td>\n",
       "      <td>happy new year live europe party start right</td>\n",
       "    </tr>\n",
       "    <tr>\n",
       "      <th>285915248383361026</th>\n",
       "      <td>Damien Sandow is awesome #YoureWelcome</td>\n",
       "      <td>2013-01-01T01:08:01.000Z</td>\n",
       "      <td>{'coordinates': {'type': 'Point', 'coordinates...</td>\n",
       "      <td>GB</td>\n",
       "      <td>73127632</td>\n",
       "      <td>{'annotations': [{'start': 0, 'end': 12, 'prob...</td>\n",
       "      <td>2013</td>\n",
       "      <td>1</td>\n",
       "      <td>1</td>\n",
       "      <td>damien sandow awesome yourewelcome</td>\n",
       "    </tr>\n",
       "    <tr>\n",
       "      <th>285921849446117376</th>\n",
       "      <td>Ryan was looking at me like I needed to be in ...</td>\n",
       "      <td>2013-01-01T01:34:15.000Z</td>\n",
       "      <td>{'place_id': 'a3f4491c1a3bfe66', 'coordinates'...</td>\n",
       "      <td>GB</td>\n",
       "      <td>398595226</td>\n",
       "      <td>{'annotations': [{'start': 0, 'end': 3, 'proba...</td>\n",
       "      <td>2013</td>\n",
       "      <td>1</td>\n",
       "      <td>1</td>\n",
       "      <td>ryan look like need asylum troublemaker come</td>\n",
       "    </tr>\n",
       "    <tr>\n",
       "      <th>285922536942866432</th>\n",
       "      <td>#welcome #to #2013 #i #hope #this #year #is #b...</td>\n",
       "      <td>2013-01-01T01:36:59.000Z</td>\n",
       "      <td>{'coordinates': {'type': 'Point', 'coordinates...</td>\n",
       "      <td>GB</td>\n",
       "      <td>191530036</td>\n",
       "      <td>{'hashtags': [{'start': 0, 'end': 8, 'tag': 'w...</td>\n",
       "      <td>2013</td>\n",
       "      <td>1</td>\n",
       "      <td>1</td>\n",
       "      <td>welcome hope year well litte world know</td>\n",
       "    </tr>\n",
       "  </tbody>\n",
       "</table>\n",
       "</div>"
      ],
      "text/plain": [
       "                                                                 text  \\\n",
       "Unnamed: 0.1                                                            \n",
       "285908615561363456  Completely missed the New Year beginning, too ...   \n",
       "285909630868152320  happy new year all of you who lives in #europe...   \n",
       "285915248383361026             Damien Sandow is awesome #YoureWelcome   \n",
       "285921849446117376  Ryan was looking at me like I needed to be in ...   \n",
       "285922536942866432  #welcome #to #2013 #i #hope #this #year #is #b...   \n",
       "\n",
       "                                  created_at  \\\n",
       "Unnamed: 0.1                                   \n",
       "285908615561363456  2013-01-01T00:41:40.000Z   \n",
       "285909630868152320  2013-01-01T00:45:42.000Z   \n",
       "285915248383361026  2013-01-01T01:08:01.000Z   \n",
       "285921849446117376  2013-01-01T01:34:15.000Z   \n",
       "285922536942866432  2013-01-01T01:36:59.000Z   \n",
       "\n",
       "                                                                  geo  \\\n",
       "Unnamed: 0.1                                                            \n",
       "285908615561363456  {'coordinates': {'type': 'Point', 'coordinates...   \n",
       "285909630868152320  {'coordinates': {'type': 'Point', 'coordinates...   \n",
       "285915248383361026  {'coordinates': {'type': 'Point', 'coordinates...   \n",
       "285921849446117376  {'place_id': 'a3f4491c1a3bfe66', 'coordinates'...   \n",
       "285922536942866432  {'coordinates': {'type': 'Point', 'coordinates...   \n",
       "\n",
       "                   country_code  author_id  \\\n",
       "Unnamed: 0.1                                 \n",
       "285908615561363456           GB  174028844   \n",
       "285909630868152320           DE  615040794   \n",
       "285915248383361026           GB   73127632   \n",
       "285921849446117376           GB  398595226   \n",
       "285922536942866432           GB  191530036   \n",
       "\n",
       "                                                             entities  year  \\\n",
       "Unnamed: 0.1                                                                  \n",
       "285908615561363456  {'hashtags': [{'start': 59, 'end': 80, 'tag': ...  2013   \n",
       "285909630868152320  {'hashtags': [{'start': 39, 'end': 46, 'tag': ...  2013   \n",
       "285915248383361026  {'annotations': [{'start': 0, 'end': 12, 'prob...  2013   \n",
       "285921849446117376  {'annotations': [{'start': 0, 'end': 3, 'proba...  2013   \n",
       "285922536942866432  {'hashtags': [{'start': 0, 'end': 8, 'tag': 'w...  2013   \n",
       "\n",
       "                    month  day  \\\n",
       "Unnamed: 0.1                     \n",
       "285908615561363456      1    1   \n",
       "285909630868152320      1    1   \n",
       "285915248383361026      1    1   \n",
       "285921849446117376      1    1   \n",
       "285922536942866432      1    1   \n",
       "\n",
       "                                                    preprocessed_text  \n",
       "Unnamed: 0.1                                                           \n",
       "285908615561363456  completely miss new year beginning engross car...  \n",
       "285909630868152320       happy new year live europe party start right  \n",
       "285915248383361026                 damien sandow awesome yourewelcome  \n",
       "285921849446117376       ryan look like need asylum troublemaker come  \n",
       "285922536942866432            welcome hope year well litte world know  "
      ]
     },
     "execution_count": 3,
     "metadata": {},
     "output_type": "execute_result"
    }
   ],
   "source": [
    "df_orig.head()"
   ]
  },
  {
   "cell_type": "code",
   "execution_count": 4,
   "id": "017a95dc-c2af-4943-8caf-95486395b7cc",
   "metadata": {},
   "outputs": [],
   "source": [
    "with open(os.path.join('/home/yiyi/nlp_tm/preprocessed_data', 'vocab.pkl'), 'rb') as f:\n",
    "        vocab = pickle.load(f)"
   ]
  },
  {
   "cell_type": "code",
   "execution_count": 5,
   "id": "e3e53cf2-a181-41c3-9a07-6c6ad2e5f79e",
   "metadata": {},
   "outputs": [],
   "source": [
    "word2id = dict([(w, j) for j, w in enumerate(vocab)])\n",
    "id2word = dict([(j, w) for j, w in enumerate(vocab)])"
   ]
  },
  {
   "cell_type": "code",
   "execution_count": 6,
   "id": "4ea6ca7c-419c-4bc6-8e78-744b5c307d6a",
   "metadata": {},
   "outputs": [],
   "source": [
    "def load_data(file: str = '../../datasets/tweets_df_tm_processed.csv', \n",
    "              timestamp_filed: str = 'year', docs_field: str = 'preprocessed_text') :\n",
    "    \"\"\"\n",
    "    wehter to split the documents by paragraph or not.\n",
    "    \"\"\"\n",
    "\n",
    "    df = pd.read_csv(file, index_col=0)\n",
    "    all_timestamps_ini = df[timestamp_filed].tolist()\n",
    "    all_docs_ini = df[docs_field].tolist()\n",
    "    ids = df.index.tolist()\n",
    "    print('size of df:', len(df))\n",
    "    print('a snippet of docs:', all_docs_ini[:20])\n",
    "    print('ids:', ids[:5])\n",
    "    country_codes = df.country_code.tolist()\n",
    "    docs = all_docs_ini\n",
    "    timestamps = all_timestamps_ini\n",
    "    return docs, timestamps, ids, country_codes"
   ]
  },
  {
   "cell_type": "code",
   "execution_count": 7,
   "id": "38ddc829-e070-4ea4-936d-6ae0851abcd2",
   "metadata": {},
   "outputs": [
    {
     "name": "stdout",
     "output_type": "stream",
     "text": [
      "size of df: 360377\n",
      "a snippet of docs: ['completely miss new year beginning engross cardsagainsthumanity notice side ache laughter', 'happy new year live europe party start right', 'damien sandow awesome yourewelcome', 'ryan look like need asylum troublemaker come', 'welcome hope year well litte world know', 'big family happy new year good wish sanjosedeperija zulia venezuela san jose de perija', 'wish party stuck work illegal lol', 'new years resolution carry banterful yourewelcome banterman looool', 'go subway leave lol nye london europe themedleylife london', 'ring immigration', 'ooooh hello xx welcome', 'people germany resettle holland away earth sea monterosa earth sky walser', 'welcome happy happynewyear italy europe italia europa vacation dreamer marano', 'depression time common people migraine severe headache whyalwaysmee', 'incredibly hungover london ok get loud bangy hour parade help yourewelcome', 'street art art street graffiti paint london colour europe england british in pitt cue trailer', 'doctor remind abit jame bond alien badguy bondgirl whogirl', 'hello refugee drunk night blaspheme swear way past rank', 'mofarah believe somali origin detain time come uscustom', 'europa europe torremolinos beach club']\n",
      "ids: [285908615561363456, 285909630868152320, 285915248383361026, 285921849446117376, 285922536942866432]\n"
     ]
    }
   ],
   "source": [
    "docs, timestamps,ids, country_codes = load_data()"
   ]
  },
  {
   "cell_type": "code",
   "execution_count": 8,
   "id": "0125a8da-fc48-4d3a-a420-0c42843578ea",
   "metadata": {},
   "outputs": [],
   "source": [
    "all_times = sorted(set(timestamps))\n",
    "time2id = dict([(t, i) for i, t in enumerate(all_times)])\n",
    "id2time = dict([(i, t) for i, t in enumerate(all_times)])\n",
    "time_list = [id2time[i] for i in range(len(all_times))]\n"
   ]
  },
  {
   "cell_type": "code",
   "execution_count": 9,
   "id": "c2319821-29cf-4d25-aa8f-26186e9dd29b",
   "metadata": {},
   "outputs": [
    {
     "data": {
      "text/plain": [
       "[2013, 2014, 2015, 2016, 2017, 2018, 2019, 2020]"
      ]
     },
     "execution_count": 9,
     "metadata": {},
     "output_type": "execute_result"
    }
   ],
   "source": [
    "time_list"
   ]
  },
  {
   "cell_type": "code",
   "execution_count": 10,
   "id": "d2959d3b-5c51-4063-b7ed-fc701810e07c",
   "metadata": {},
   "outputs": [
    {
     "data": {
      "text/plain": [
       "[2013, 2013, 2013, 2013, 2013, 2013, 2013, 2013, 2013, 2013]"
      ]
     },
     "execution_count": 10,
     "metadata": {},
     "output_type": "execute_result"
    }
   ],
   "source": [
    "timestamps[:10]"
   ]
  },
  {
   "cell_type": "code",
   "execution_count": 11,
   "id": "bb8e93e6-ccf5-44fc-b663-5ea36722937c",
   "metadata": {},
   "outputs": [
    {
     "data": {
      "text/plain": [
       "13807"
      ]
     },
     "execution_count": 11,
     "metadata": {},
     "output_type": "execute_result"
    }
   ],
   "source": [
    "word2id['completely']"
   ]
  },
  {
   "cell_type": "code",
   "execution_count": 12,
   "id": "f350755b-98fd-4d9f-b747-6f0682543a1b",
   "metadata": {},
   "outputs": [],
   "source": [
    "docs = [[word2id[w] for w in doc.split() if w in word2id] for doc in docs]"
   ]
  },
  {
   "cell_type": "code",
   "execution_count": 13,
   "id": "efa2c0d4-0d49-4036-b42f-7a4d29012ab9",
   "metadata": {},
   "outputs": [
    {
     "data": {
      "text/plain": [
       "[[13807, 12242, 16517, 4854, 16885, 13840, 7284, 12137, 8650]]"
      ]
     },
     "execution_count": 13,
     "metadata": {},
     "output_type": "execute_result"
    }
   ],
   "source": [
    "docs[:1]"
   ]
  },
  {
   "cell_type": "code",
   "execution_count": 14,
   "id": "58c3144d-e9c6-42d0-ad38-b2dca170208f",
   "metadata": {},
   "outputs": [],
   "source": [
    "timestamps = [time2id[time] for time in timestamps]"
   ]
  },
  {
   "cell_type": "code",
   "execution_count": 15,
   "id": "1aed548a-5f49-4bc3-bf24-58414638f5e1",
   "metadata": {
    "scrolled": true,
    "tags": []
   },
   "outputs": [
    {
     "data": {
      "text/plain": [
       "[7, 7, 7, 7, 7, 7, 7, 7, 7, 7]"
      ]
     },
     "execution_count": 15,
     "metadata": {},
     "output_type": "execute_result"
    }
   ],
   "source": [
    "timestamps[-10:]"
   ]
  },
  {
   "cell_type": "code",
   "execution_count": 16,
   "id": "47a9c332-5831-4b72-b369-b0b79b55a158",
   "metadata": {},
   "outputs": [
    {
     "data": {
      "text/plain": [
       "360377"
      ]
     },
     "execution_count": 16,
     "metadata": {},
     "output_type": "execute_result"
    }
   ],
   "source": [
    "len(timestamps)"
   ]
  },
  {
   "cell_type": "code",
   "execution_count": 17,
   "id": "57592391-cf07-4bb0-a656-83c6fa005d81",
   "metadata": {},
   "outputs": [],
   "source": [
    "def remove_empty(in_docs, in_timestamps, in_ids, in_countries):\n",
    "    \"\"\"\n",
    "    Remove the empty doc.\n",
    "    \"\"\"\n",
    "    out_docs = []\n",
    "    out_timestamps = []\n",
    "    out_ids =[]\n",
    "    out_countries=[]\n",
    "    for ii, doc in enumerate(in_docs):\n",
    "        if(doc!=[]):\n",
    "            out_docs.append(doc)\n",
    "            out_timestamps.append(in_timestamps[ii])\n",
    "            out_ids.append(in_ids[ii])\n",
    "            out_countries.append(in_countries[ii])\n",
    "    return out_docs, out_timestamps, out_ids, out_countries"
   ]
  },
  {
   "cell_type": "code",
   "execution_count": 18,
   "id": "5005822b-e235-42c7-a06c-6702e1b720bd",
   "metadata": {},
   "outputs": [],
   "source": [
    "docs, timestamps,ids, country_codes  = remove_empty(docs, timestamps,ids, country_codes )"
   ]
  },
  {
   "cell_type": "code",
   "execution_count": 19,
   "id": "27d7f285-3d09-4fb5-8a51-b9fa260f0683",
   "metadata": {},
   "outputs": [
    {
     "data": {
      "text/plain": [
       "(360097, 360097, 360097, 360097)"
      ]
     },
     "execution_count": 19,
     "metadata": {},
     "output_type": "execute_result"
    }
   ],
   "source": [
    "len(docs), len(timestamps), len(ids), len(country_codes)"
   ]
  },
  {
   "cell_type": "code",
   "execution_count": 20,
   "id": "c55ae66e-32f1-43ec-aab4-b217bc9c4ef1",
   "metadata": {},
   "outputs": [
    {
     "data": {
      "text/plain": [
       "[13807, 12242, 16517, 4854, 16885, 13840, 7284, 12137, 8650]"
      ]
     },
     "execution_count": 20,
     "metadata": {},
     "output_type": "execute_result"
    }
   ],
   "source": [
    "docs[0]"
   ]
  },
  {
   "cell_type": "code",
   "execution_count": 21,
   "id": "3a487769-e1c8-4879-9735-e1b3d1e9b4bb",
   "metadata": {},
   "outputs": [],
   "source": [
    "df= pd.DataFrame()"
   ]
  },
  {
   "cell_type": "code",
   "execution_count": 22,
   "id": "611054d9-4e6d-47b8-9184-98357d2548f8",
   "metadata": {},
   "outputs": [],
   "source": [
    "df['text_id']= docs"
   ]
  },
  {
   "cell_type": "code",
   "execution_count": 23,
   "id": "b3179e38-e84c-4da5-be48-5842b9e4d746",
   "metadata": {},
   "outputs": [],
   "source": [
    "df['year'] = timestamps"
   ]
  },
  {
   "cell_type": "code",
   "execution_count": 24,
   "id": "ac610a00-17e2-469c-abe4-a505a4534bd1",
   "metadata": {},
   "outputs": [],
   "source": [
    "df['country_code'] = country_codes"
   ]
  },
  {
   "cell_type": "code",
   "execution_count": 25,
   "id": "55b01c9f-5a27-498d-a0f9-64f79c4532ad",
   "metadata": {},
   "outputs": [],
   "source": [
    "df.index=ids"
   ]
  },
  {
   "cell_type": "code",
   "execution_count": 26,
   "id": "3a3386dc-ab25-4d5d-bc99-d1e40a4d461b",
   "metadata": {},
   "outputs": [],
   "source": [
    "df.rename(columns={'year':'year_id'}, inplace=True)"
   ]
  },
  {
   "cell_type": "code",
   "execution_count": 27,
   "id": "d9366457-efa1-4cd8-9a01-b1cd06c6b47f",
   "metadata": {},
   "outputs": [],
   "source": [
    "df['id'] = df.index\n",
    "df_orig['id']= df_orig.index"
   ]
  },
  {
   "cell_type": "code",
   "execution_count": 28,
   "id": "2f81e960-3b33-4998-b6ab-7304238de43c",
   "metadata": {},
   "outputs": [],
   "source": [
    "df_merge = pd.merge(df, df_orig, on=['id', 'country_code'])"
   ]
  },
  {
   "cell_type": "code",
   "execution_count": 29,
   "id": "e5894002-e073-45c2-b123-7e9b3c531165",
   "metadata": {},
   "outputs": [],
   "source": [
    "df_merge.index = df_merge.id"
   ]
  },
  {
   "cell_type": "code",
   "execution_count": 45,
   "id": "7821bbab-273a-476f-b72d-daed6a91bf73",
   "metadata": {},
   "outputs": [],
   "source": [
    "df_merge.to_csv('../../datasets/df_detm_ids.csv')"
   ]
  },
  {
   "cell_type": "code",
   "execution_count": 30,
   "id": "6e2d856b-0e94-4b51-ab4f-b0e16af6903f",
   "metadata": {
    "scrolled": true,
    "tags": []
   },
   "outputs": [
    {
     "data": {
      "text/html": [
       "<div>\n",
       "<style scoped>\n",
       "    .dataframe tbody tr th:only-of-type {\n",
       "        vertical-align: middle;\n",
       "    }\n",
       "\n",
       "    .dataframe tbody tr th {\n",
       "        vertical-align: top;\n",
       "    }\n",
       "\n",
       "    .dataframe thead th {\n",
       "        text-align: right;\n",
       "    }\n",
       "</style>\n",
       "<table border=\"1\" class=\"dataframe\">\n",
       "  <thead>\n",
       "    <tr style=\"text-align: right;\">\n",
       "      <th></th>\n",
       "      <th>text_id</th>\n",
       "      <th>year_id</th>\n",
       "      <th>country_code</th>\n",
       "      <th>id</th>\n",
       "      <th>text</th>\n",
       "      <th>created_at</th>\n",
       "      <th>geo</th>\n",
       "      <th>author_id</th>\n",
       "      <th>entities</th>\n",
       "      <th>year</th>\n",
       "      <th>month</th>\n",
       "      <th>day</th>\n",
       "      <th>preprocessed_text</th>\n",
       "    </tr>\n",
       "    <tr>\n",
       "      <th>id</th>\n",
       "      <th></th>\n",
       "      <th></th>\n",
       "      <th></th>\n",
       "      <th></th>\n",
       "      <th></th>\n",
       "      <th></th>\n",
       "      <th></th>\n",
       "      <th></th>\n",
       "      <th></th>\n",
       "      <th></th>\n",
       "      <th></th>\n",
       "      <th></th>\n",
       "      <th></th>\n",
       "    </tr>\n",
       "  </thead>\n",
       "  <tbody>\n",
       "    <tr>\n",
       "      <th>285908615561363456</th>\n",
       "      <td>[13807, 12242, 16517, 4854, 16885, 13840, 7284...</td>\n",
       "      <td>0</td>\n",
       "      <td>GB</td>\n",
       "      <td>285908615561363456</td>\n",
       "      <td>Completely missed the New Year beginning, too ...</td>\n",
       "      <td>2013-01-01T00:41:40.000Z</td>\n",
       "      <td>{'coordinates': {'type': 'Point', 'coordinates...</td>\n",
       "      <td>174028844</td>\n",
       "      <td>{'hashtags': [{'start': 59, 'end': 80, 'tag': ...</td>\n",
       "      <td>2013</td>\n",
       "      <td>1</td>\n",
       "      <td>1</td>\n",
       "      <td>completely miss new year beginning engross car...</td>\n",
       "    </tr>\n",
       "    <tr>\n",
       "      <th>285909630868152320</th>\n",
       "      <td>[11403, 16517, 13618, 1431, 1404, 1881]</td>\n",
       "      <td>0</td>\n",
       "      <td>DE</td>\n",
       "      <td>285909630868152320</td>\n",
       "      <td>happy new year all of you who lives in #europe...</td>\n",
       "      <td>2013-01-01T00:45:42.000Z</td>\n",
       "      <td>{'coordinates': {'type': 'Point', 'coordinates...</td>\n",
       "      <td>615040794</td>\n",
       "      <td>{'hashtags': [{'start': 39, 'end': 46, 'tag': ...</td>\n",
       "      <td>2013</td>\n",
       "      <td>1</td>\n",
       "      <td>1</td>\n",
       "      <td>happy new year live europe party start right</td>\n",
       "    </tr>\n",
       "    <tr>\n",
       "      <th>285915248383361026</th>\n",
       "      <td>[638, 2601, 20286]</td>\n",
       "      <td>0</td>\n",
       "      <td>GB</td>\n",
       "      <td>285915248383361026</td>\n",
       "      <td>Damien Sandow is awesome #YoureWelcome</td>\n",
       "      <td>2013-01-01T01:08:01.000Z</td>\n",
       "      <td>{'coordinates': {'type': 'Point', 'coordinates...</td>\n",
       "      <td>73127632</td>\n",
       "      <td>{'annotations': [{'start': 0, 'end': 12, 'prob...</td>\n",
       "      <td>2013</td>\n",
       "      <td>1</td>\n",
       "      <td>1</td>\n",
       "      <td>damien sandow awesome yourewelcome</td>\n",
       "    </tr>\n",
       "    <tr>\n",
       "      <th>285921849446117376</th>\n",
       "      <td>[17018, 9987]</td>\n",
       "      <td>0</td>\n",
       "      <td>GB</td>\n",
       "      <td>285921849446117376</td>\n",
       "      <td>Ryan was looking at me like I needed to be in ...</td>\n",
       "      <td>2013-01-01T01:34:15.000Z</td>\n",
       "      <td>{'place_id': 'a3f4491c1a3bfe66', 'coordinates'...</td>\n",
       "      <td>398595226</td>\n",
       "      <td>{'annotations': [{'start': 0, 'end': 3, 'proba...</td>\n",
       "      <td>2013</td>\n",
       "      <td>1</td>\n",
       "      <td>1</td>\n",
       "      <td>ryan look like need asylum troublemaker come</td>\n",
       "    </tr>\n",
       "    <tr>\n",
       "      <th>285922536942866432</th>\n",
       "      <td>[2721, 16517, 12121]</td>\n",
       "      <td>0</td>\n",
       "      <td>GB</td>\n",
       "      <td>285922536942866432</td>\n",
       "      <td>#welcome #to #2013 #i #hope #this #year #is #b...</td>\n",
       "      <td>2013-01-01T01:36:59.000Z</td>\n",
       "      <td>{'coordinates': {'type': 'Point', 'coordinates...</td>\n",
       "      <td>191530036</td>\n",
       "      <td>{'hashtags': [{'start': 0, 'end': 8, 'tag': 'w...</td>\n",
       "      <td>2013</td>\n",
       "      <td>1</td>\n",
       "      <td>1</td>\n",
       "      <td>welcome hope year well litte world know</td>\n",
       "    </tr>\n",
       "    <tr>\n",
       "      <th>...</th>\n",
       "      <td>...</td>\n",
       "      <td>...</td>\n",
       "      <td>...</td>\n",
       "      <td>...</td>\n",
       "      <td>...</td>\n",
       "      <td>...</td>\n",
       "      <td>...</td>\n",
       "      <td>...</td>\n",
       "      <td>...</td>\n",
       "      <td>...</td>\n",
       "      <td>...</td>\n",
       "      <td>...</td>\n",
       "      <td>...</td>\n",
       "    </tr>\n",
       "    <tr>\n",
       "      <th>1344791154005573632</th>\n",
       "      <td>[1431, 10434, 1206, 6258, 13960, 2093, 8090, 9...</td>\n",
       "      <td>7</td>\n",
       "      <td>GB</td>\n",
       "      <td>1344791154005573632</td>\n",
       "      <td>As #Europe is one hour ahead of #Britain they ...</td>\n",
       "      <td>2020-12-31T23:42:50.000Z</td>\n",
       "      <td>{'place_id': '609de05ff9db5cfe', 'place': {'fu...</td>\n",
       "      <td>108713501</td>\n",
       "      <td>{'hashtags': [{'start': 3, 'end': 10, 'tag': '...</td>\n",
       "      <td>2020</td>\n",
       "      <td>12</td>\n",
       "      <td>31</td>\n",
       "      <td>europe hour ahead britain celebrate newyear bl...</td>\n",
       "    </tr>\n",
       "    <tr>\n",
       "      <th>1344792331766083584</th>\n",
       "      <td>[10314, 4018, 20597, 7278, 10915, 985]</td>\n",
       "      <td>7</td>\n",
       "      <td>IT</td>\n",
       "      <td>1344792331766083584</td>\n",
       "      <td>#LeaveALightOnForScotland, because #Scotland w...</td>\n",
       "      <td>2020-12-31T23:47:31.000Z</td>\n",
       "      <td>{'place_id': '0f14a0bc5fea038d', 'place': {'fu...</td>\n",
       "      <td>492589316</td>\n",
       "      <td>{'hashtags': [{'start': 0, 'end': 25, 'tag': '...</td>\n",
       "      <td>2020</td>\n",
       "      <td>12</td>\n",
       "      <td>31</td>\n",
       "      <td>leavealightonforscotland scotland soon europea...</td>\n",
       "    </tr>\n",
       "    <tr>\n",
       "      <th>1344793429360959491</th>\n",
       "      <td>[17683, 14049, 1833, 1457]</td>\n",
       "      <td>7</td>\n",
       "      <td>GB</td>\n",
       "      <td>1344793429360959491</td>\n",
       "      <td>Pass it on #IndyScotland21 #ScotlandinEU #Scot...</td>\n",
       "      <td>2020-12-31T23:51:53.000Z</td>\n",
       "      <td>{'place_id': '73cc26d418860ddd', 'place': {'fu...</td>\n",
       "      <td>151383933</td>\n",
       "      <td>{'hashtags': [{'start': 11, 'end': 26, 'tag': ...</td>\n",
       "      <td>2020</td>\n",
       "      <td>12</td>\n",
       "      <td>31</td>\n",
       "      <td>pass indyscotland scotlandineu scotlandineurop...</td>\n",
       "    </tr>\n",
       "    <tr>\n",
       "      <th>1344793756189544450</th>\n",
       "      <td>[1457, 14898]</td>\n",
       "      <td>7</td>\n",
       "      <td>GB</td>\n",
       "      <td>1344793756189544450</td>\n",
       "      <td>Here’s to a better 2021! #ScotlandInEurope #Sc...</td>\n",
       "      <td>2020-12-31T23:53:11.000Z</td>\n",
       "      <td>{'place_id': '0af014accd6f6e99', 'place': {'fu...</td>\n",
       "      <td>1492027154</td>\n",
       "      <td>{'hashtags': [{'start': 25, 'end': 42, 'tag': ...</td>\n",
       "      <td>2020</td>\n",
       "      <td>12</td>\n",
       "      <td>31</td>\n",
       "      <td>here well scotlandineurope scottishindependenc...</td>\n",
       "    </tr>\n",
       "    <tr>\n",
       "      <th>1344795058332184577</th>\n",
       "      <td>[11403, 16517, 4682, 12530, 6536, 5885, 12658,...</td>\n",
       "      <td>7</td>\n",
       "      <td>GB</td>\n",
       "      <td>1344795058332184577</td>\n",
       "      <td>Happy New Year @TobyWhithouse @marcuswhitney1 ...</td>\n",
       "      <td>2020-12-31T23:58:21.000Z</td>\n",
       "      <td>{'place_id': '0097eb6734bf322d', 'place': {'fu...</td>\n",
       "      <td>77997068</td>\n",
       "      <td>{'mentions': [{'start': 15, 'end': 29, 'userna...</td>\n",
       "      <td>2020</td>\n",
       "      <td>12</td>\n",
       "      <td>31</td>\n",
       "      <td>happy new year thank entertaining hard work be...</td>\n",
       "    </tr>\n",
       "  </tbody>\n",
       "</table>\n",
       "<p>360097 rows × 13 columns</p>\n",
       "</div>"
      ],
      "text/plain": [
       "                                                               text_id  \\\n",
       "id                                                                       \n",
       "285908615561363456   [13807, 12242, 16517, 4854, 16885, 13840, 7284...   \n",
       "285909630868152320             [11403, 16517, 13618, 1431, 1404, 1881]   \n",
       "285915248383361026                                  [638, 2601, 20286]   \n",
       "285921849446117376                                       [17018, 9987]   \n",
       "285922536942866432                                [2721, 16517, 12121]   \n",
       "...                                                                ...   \n",
       "1344791154005573632  [1431, 10434, 1206, 6258, 13960, 2093, 8090, 9...   \n",
       "1344792331766083584             [10314, 4018, 20597, 7278, 10915, 985]   \n",
       "1344793429360959491                         [17683, 14049, 1833, 1457]   \n",
       "1344793756189544450                                      [1457, 14898]   \n",
       "1344795058332184577  [11403, 16517, 4682, 12530, 6536, 5885, 12658,...   \n",
       "\n",
       "                     year_id country_code                   id  \\\n",
       "id                                                               \n",
       "285908615561363456         0           GB   285908615561363456   \n",
       "285909630868152320         0           DE   285909630868152320   \n",
       "285915248383361026         0           GB   285915248383361026   \n",
       "285921849446117376         0           GB   285921849446117376   \n",
       "285922536942866432         0           GB   285922536942866432   \n",
       "...                      ...          ...                  ...   \n",
       "1344791154005573632        7           GB  1344791154005573632   \n",
       "1344792331766083584        7           IT  1344792331766083584   \n",
       "1344793429360959491        7           GB  1344793429360959491   \n",
       "1344793756189544450        7           GB  1344793756189544450   \n",
       "1344795058332184577        7           GB  1344795058332184577   \n",
       "\n",
       "                                                                  text  \\\n",
       "id                                                                       \n",
       "285908615561363456   Completely missed the New Year beginning, too ...   \n",
       "285909630868152320   happy new year all of you who lives in #europe...   \n",
       "285915248383361026              Damien Sandow is awesome #YoureWelcome   \n",
       "285921849446117376   Ryan was looking at me like I needed to be in ...   \n",
       "285922536942866432   #welcome #to #2013 #i #hope #this #year #is #b...   \n",
       "...                                                                ...   \n",
       "1344791154005573632  As #Europe is one hour ahead of #Britain they ...   \n",
       "1344792331766083584  #LeaveALightOnForScotland, because #Scotland w...   \n",
       "1344793429360959491  Pass it on #IndyScotland21 #ScotlandinEU #Scot...   \n",
       "1344793756189544450  Here’s to a better 2021! #ScotlandInEurope #Sc...   \n",
       "1344795058332184577  Happy New Year @TobyWhithouse @marcuswhitney1 ...   \n",
       "\n",
       "                                   created_at  \\\n",
       "id                                              \n",
       "285908615561363456   2013-01-01T00:41:40.000Z   \n",
       "285909630868152320   2013-01-01T00:45:42.000Z   \n",
       "285915248383361026   2013-01-01T01:08:01.000Z   \n",
       "285921849446117376   2013-01-01T01:34:15.000Z   \n",
       "285922536942866432   2013-01-01T01:36:59.000Z   \n",
       "...                                       ...   \n",
       "1344791154005573632  2020-12-31T23:42:50.000Z   \n",
       "1344792331766083584  2020-12-31T23:47:31.000Z   \n",
       "1344793429360959491  2020-12-31T23:51:53.000Z   \n",
       "1344793756189544450  2020-12-31T23:53:11.000Z   \n",
       "1344795058332184577  2020-12-31T23:58:21.000Z   \n",
       "\n",
       "                                                                   geo  \\\n",
       "id                                                                       \n",
       "285908615561363456   {'coordinates': {'type': 'Point', 'coordinates...   \n",
       "285909630868152320   {'coordinates': {'type': 'Point', 'coordinates...   \n",
       "285915248383361026   {'coordinates': {'type': 'Point', 'coordinates...   \n",
       "285921849446117376   {'place_id': 'a3f4491c1a3bfe66', 'coordinates'...   \n",
       "285922536942866432   {'coordinates': {'type': 'Point', 'coordinates...   \n",
       "...                                                                ...   \n",
       "1344791154005573632  {'place_id': '609de05ff9db5cfe', 'place': {'fu...   \n",
       "1344792331766083584  {'place_id': '0f14a0bc5fea038d', 'place': {'fu...   \n",
       "1344793429360959491  {'place_id': '73cc26d418860ddd', 'place': {'fu...   \n",
       "1344793756189544450  {'place_id': '0af014accd6f6e99', 'place': {'fu...   \n",
       "1344795058332184577  {'place_id': '0097eb6734bf322d', 'place': {'fu...   \n",
       "\n",
       "                      author_id  \\\n",
       "id                                \n",
       "285908615561363456    174028844   \n",
       "285909630868152320    615040794   \n",
       "285915248383361026     73127632   \n",
       "285921849446117376    398595226   \n",
       "285922536942866432    191530036   \n",
       "...                         ...   \n",
       "1344791154005573632   108713501   \n",
       "1344792331766083584   492589316   \n",
       "1344793429360959491   151383933   \n",
       "1344793756189544450  1492027154   \n",
       "1344795058332184577    77997068   \n",
       "\n",
       "                                                              entities  year  \\\n",
       "id                                                                             \n",
       "285908615561363456   {'hashtags': [{'start': 59, 'end': 80, 'tag': ...  2013   \n",
       "285909630868152320   {'hashtags': [{'start': 39, 'end': 46, 'tag': ...  2013   \n",
       "285915248383361026   {'annotations': [{'start': 0, 'end': 12, 'prob...  2013   \n",
       "285921849446117376   {'annotations': [{'start': 0, 'end': 3, 'proba...  2013   \n",
       "285922536942866432   {'hashtags': [{'start': 0, 'end': 8, 'tag': 'w...  2013   \n",
       "...                                                                ...   ...   \n",
       "1344791154005573632  {'hashtags': [{'start': 3, 'end': 10, 'tag': '...  2020   \n",
       "1344792331766083584  {'hashtags': [{'start': 0, 'end': 25, 'tag': '...  2020   \n",
       "1344793429360959491  {'hashtags': [{'start': 11, 'end': 26, 'tag': ...  2020   \n",
       "1344793756189544450  {'hashtags': [{'start': 25, 'end': 42, 'tag': ...  2020   \n",
       "1344795058332184577  {'mentions': [{'start': 15, 'end': 29, 'userna...  2020   \n",
       "\n",
       "                     month  day  \\\n",
       "id                                \n",
       "285908615561363456       1    1   \n",
       "285909630868152320       1    1   \n",
       "285915248383361026       1    1   \n",
       "285921849446117376       1    1   \n",
       "285922536942866432       1    1   \n",
       "...                    ...  ...   \n",
       "1344791154005573632     12   31   \n",
       "1344792331766083584     12   31   \n",
       "1344793429360959491     12   31   \n",
       "1344793756189544450     12   31   \n",
       "1344795058332184577     12   31   \n",
       "\n",
       "                                                     preprocessed_text  \n",
       "id                                                                      \n",
       "285908615561363456   completely miss new year beginning engross car...  \n",
       "285909630868152320        happy new year live europe party start right  \n",
       "285915248383361026                  damien sandow awesome yourewelcome  \n",
       "285921849446117376        ryan look like need asylum troublemaker come  \n",
       "285922536942866432             welcome hope year well litte world know  \n",
       "...                                                                ...  \n",
       "1344791154005573632  europe hour ahead britain celebrate newyear bl...  \n",
       "1344792331766083584  leavealightonforscotland scotland soon europea...  \n",
       "1344793429360959491  pass indyscotland scotlandineu scotlandineurop...  \n",
       "1344793756189544450  here well scotlandineurope scottishindependenc...  \n",
       "1344795058332184577  happy new year thank entertaining hard work be...  \n",
       "\n",
       "[360097 rows x 13 columns]"
      ]
     },
     "execution_count": 30,
     "metadata": {},
     "output_type": "execute_result"
    }
   ],
   "source": [
    "df_merge"
   ]
  },
  {
   "cell_type": "code",
   "execution_count": 31,
   "id": "2d78b306-d54f-4a34-98c3-821b8ab864ef",
   "metadata": {},
   "outputs": [],
   "source": [
    "from scipy import sparse\n",
    "\n",
    "def create_list_words(in_docs):\n",
    "    return [x for y in in_docs for x in y]\n",
    "\n",
    "\n",
    "def create_doc_indices(in_docs):\n",
    "    aux = [[j for i in range(len(doc))] for j, doc in enumerate(in_docs)]\n",
    "    return [int(x) for y in aux for x in y]\n",
    "\n",
    "\n",
    "def create_bow(doc_indices, words, n_docs, vocab_size):\n",
    "    return sparse.coo_matrix(([1]*len(doc_indices),(doc_indices, words)), shape=(n_docs, vocab_size)).tocsr()\n",
    "\n",
    "def split_bow(bow_in, n_docs):\n",
    "    indices = [[w for w in bow_in[doc,:].indices] for doc in range(n_docs)]\n",
    "    counts = [[c for c in bow_in[doc,:].data] for doc in range(n_docs)]\n",
    "    return indices, counts"
   ]
  },
  {
   "cell_type": "code",
   "execution_count": 32,
   "id": "3a8d5ccb-64c7-4970-8327-418e4521d8f1",
   "metadata": {},
   "outputs": [],
   "source": [
    "words = create_list_words(docs)\n",
    "doc_indices = create_doc_indices(docs)"
   ]
  },
  {
   "cell_type": "code",
   "execution_count": 33,
   "id": "f6bcf45b-dba1-48ee-ab8a-404133922f6c",
   "metadata": {},
   "outputs": [],
   "source": [
    "bow = create_bow(doc_indices, words, len(docs), len(vocab))"
   ]
  },
  {
   "cell_type": "code",
   "execution_count": 35,
   "id": "2d92454d-f872-45ff-9f33-c4cf73a2fb9f",
   "metadata": {},
   "outputs": [
    {
     "data": {
      "text/plain": [
       "<1x20865 sparse matrix of type '<class 'numpy.int64'>'\n",
       "\twith 6 stored elements in Compressed Sparse Row format>"
      ]
     },
     "execution_count": 35,
     "metadata": {},
     "output_type": "execute_result"
    }
   ],
   "source": [
    "bow[1][0]"
   ]
  },
  {
   "cell_type": "code",
   "execution_count": 58,
   "id": "93bb8b56-080a-403a-9905-3965cfda8685",
   "metadata": {},
   "outputs": [],
   "source": [
    "from scipy.io import savemat, loadmat\n"
   ]
  },
  {
   "cell_type": "code",
   "execution_count": 61,
   "id": "db35ebe5-ad00-491f-917a-d87b5de4d667",
   "metadata": {},
   "outputs": [],
   "source": [
    "tokens, counts = split_bow(bow, len(docs))"
   ]
  },
  {
   "cell_type": "code",
   "execution_count": 62,
   "id": "320d82f0-6e44-46b3-9770-f7d77af256f0",
   "metadata": {},
   "outputs": [
    {
     "name": "stderr",
     "output_type": "stream",
     "text": [
      "/home/yiyi/miniconda3/envs/hatex/lib/python3.8/site-packages/numpy/core/_asarray.py:171: VisibleDeprecationWarning: Creating an ndarray from ragged nested sequences (which is a list-or-tuple of lists-or-tuples-or ndarrays with different lengths or shapes) is deprecated. If you meant to do this, you must specify 'dtype=object' when creating the ndarray.\n",
      "  return array(a, dtype, copy=False, order=order, subok=True)\n"
     ]
    }
   ],
   "source": [
    "savemat(os.path.join('../../preprocessed_data', 'bow_tokens'), {'tokens': tokens}, do_compression=True)\n",
    "savemat(os.path.join('../../preprocessed_data', 'bow_counts'), {'counts': counts}, do_compression=True)"
   ]
  },
  {
   "cell_type": "code",
   "execution_count": 63,
   "id": "0cb7de50-4ad1-4bf1-89ae-7aa53db5f45c",
   "metadata": {},
   "outputs": [],
   "source": [
    "savemat(os.path.join('../../preprocessed_data', 'bow_timestamps') , {'timestamps': timestamps}, do_compression=True)"
   ]
  },
  {
   "cell_type": "code",
   "execution_count": null,
   "id": "00dd572f-8ae7-4736-b50c-d7db7ce97406",
   "metadata": {},
   "outputs": [],
   "source": []
  },
  {
   "cell_type": "code",
   "execution_count": null,
   "id": "f403ca66-fc71-47f1-9e79-bc8b505388ae",
   "metadata": {},
   "outputs": [],
   "source": []
  },
  {
   "cell_type": "code",
   "execution_count": null,
   "id": "b0aa4bd0-3dc4-441f-8c29-9d7573930be0",
   "metadata": {},
   "outputs": [],
   "source": []
  }
 ],
 "metadata": {
  "kernelspec": {
   "display_name": "hatex",
   "language": "python",
   "name": "hatex"
  },
  "language_info": {
   "codemirror_mode": {
    "name": "ipython",
    "version": 3
   },
   "file_extension": ".py",
   "mimetype": "text/x-python",
   "name": "python",
   "nbconvert_exporter": "python",
   "pygments_lexer": "ipython3",
   "version": "3.8.8"
  }
 },
 "nbformat": 4,
 "nbformat_minor": 5
}
